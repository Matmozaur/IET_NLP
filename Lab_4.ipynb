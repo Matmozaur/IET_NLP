{
 "cells": [
  {
   "cell_type": "code",
   "execution_count": 5,
   "id": "1022c8de",
   "metadata": {},
   "outputs": [],
   "source": [
    "PATH = \"/home/mdobrzanski/playground/IET/NLP/ustawy/\"\n",
    "%config Completer.use_jedi = False"
   ]
  },
  {
   "cell_type": "code",
   "execution_count": 192,
   "id": "31b9ea44",
   "metadata": {},
   "outputs": [],
   "source": [
    "import regex as re\n",
    "import os\n",
    "from morfeusz2 import Morfeusz \n",
    "import matplotlib.pyplot as plt\n",
    "import elasticsearch\n",
    "import elasticsearch_dsl\n",
    "import os\n",
    "import re\n",
    "import spacy\n",
    "import time\n",
    "from collections import defaultdict, Counter, OrderedDict\n",
    "from functools import reduce\n",
    "import math\n",
    "import pandas as pd"
   ]
  },
  {
   "cell_type": "code",
   "execution_count": 7,
   "id": "707aabea",
   "metadata": {},
   "outputs": [],
   "source": [
    "morf = Morfeusz()"
   ]
  },
  {
   "cell_type": "code",
   "execution_count": 8,
   "id": "ce470b3a",
   "metadata": {},
   "outputs": [],
   "source": [
    "laws = {}\n",
    "\n",
    "for filename in os.listdir(PATH):\n",
    "    with open(PATH+filename, 'r') as file:\n",
    "        tmp = file.read()\n",
    "    laws[filename] = tmp"
   ]
  },
  {
   "cell_type": "code",
   "execution_count": null,
   "id": "final-priority",
   "metadata": {},
   "outputs": [],
   "source": []
  },
  {
   "cell_type": "markdown",
   "id": "industrial-witch",
   "metadata": {},
   "source": [
    "# 1"
   ]
  },
  {
   "cell_type": "code",
   "execution_count": 9,
   "id": "conservative-chassis",
   "metadata": {},
   "outputs": [],
   "source": [
    "def remove_html_tags(text):\n",
    "    \"\"\"Remove html tags from a string\"\"\"\n",
    "    import re\n",
    "    clean = re.compile('<.*?>')\n",
    "    return re.sub(clean, '', text)"
   ]
  },
  {
   "cell_type": "code",
   "execution_count": 10,
   "id": "restricted-operator",
   "metadata": {},
   "outputs": [],
   "source": [
    "laws = {k: remove_html_tags(v) for k, v in laws.items()}"
   ]
  },
  {
   "cell_type": "code",
   "execution_count": 11,
   "id": "thrown-premises",
   "metadata": {},
   "outputs": [],
   "source": [
    "nlp = spacy.load('pl_core_news_sm')\n",
    "tokenizer = nlp.tokenizer"
   ]
  },
  {
   "cell_type": "code",
   "execution_count": 12,
   "id": "animal-woman",
   "metadata": {},
   "outputs": [],
   "source": [
    "law_tokens = {}\n",
    "\n",
    "for k, v in laws.items():\n",
    "    law_tokens[k] = [token.text.lower() for token in tokenizer(v)]"
   ]
  },
  {
   "cell_type": "code",
   "execution_count": null,
   "id": "wound-crown",
   "metadata": {},
   "outputs": [],
   "source": []
  },
  {
   "cell_type": "markdown",
   "id": "banned-independence",
   "metadata": {},
   "source": [
    "# 2"
   ]
  },
  {
   "cell_type": "code",
   "execution_count": 124,
   "id": "sized-gauge",
   "metadata": {},
   "outputs": [],
   "source": [
    "def count_n_grams_text(text, n=2):\n",
    "    result = defaultdict(int)\n",
    "    text = list(map(lambda x: x.lower(), text))\n",
    "    for i in range(n,len(text)):\n",
    "        result[' '.join(text[i-n:i])] += 1\n",
    "    return result\n",
    "\n",
    "def count_n_grams_dict(dictionary, n=2):\n",
    "    result = list(map(lambda x: Counter(count_n_grams_text(x, n)), dictionary.values()))\n",
    "    result = sum(result, Counter())\n",
    "    return (defaultdict(int, result))\n",
    "#     result = defaultdict(int)\n",
    "#     for k, v in dictionary.items():\n",
    "#         result = defaultdict(int, Counter(result)+Counter(count_n_grams_text(v, n)))\n",
    "#     return result"
   ]
  },
  {
   "cell_type": "code",
   "execution_count": 125,
   "id": "round-anchor",
   "metadata": {},
   "outputs": [],
   "source": [
    "bigrams = count_n_grams_dict(law_tokens, 2)"
   ]
  },
  {
   "cell_type": "code",
   "execution_count": null,
   "id": "suburban-ghost",
   "metadata": {},
   "outputs": [],
   "source": []
  },
  {
   "cell_type": "code",
   "execution_count": null,
   "id": "three-hazard",
   "metadata": {},
   "outputs": [],
   "source": []
  },
  {
   "cell_type": "markdown",
   "id": "alive-proof",
   "metadata": {},
   "source": [
    "# 3"
   ]
  },
  {
   "cell_type": "code",
   "execution_count": 127,
   "id": "alpha-sally",
   "metadata": {},
   "outputs": [],
   "source": [
    "def clean_n_grams(n_grams, n):\n",
    "    to_del = []\n",
    "    for k in n_grams.keys():\n",
    "        if not k.replace(' ', '').isalpha():\n",
    "            to_del.append(k)\n",
    "        elif len(k.split(' ')) != n:\n",
    "            to_del.append(k)\n",
    "    for k in to_del:\n",
    "        del n_grams[k]"
   ]
  },
  {
   "cell_type": "code",
   "execution_count": 128,
   "id": "after-civilian",
   "metadata": {},
   "outputs": [],
   "source": [
    "clean_n_grams(bigrams, 2)"
   ]
  },
  {
   "cell_type": "code",
   "execution_count": null,
   "id": "expensive-vatican",
   "metadata": {},
   "outputs": [],
   "source": []
  },
  {
   "cell_type": "markdown",
   "id": "later-litigation",
   "metadata": {},
   "source": [
    "# 4"
   ]
  },
  {
   "cell_type": "code",
   "execution_count": 130,
   "id": "conservative-south",
   "metadata": {},
   "outputs": [],
   "source": [
    "unigrams = count_n_grams_dict(law_tokens, 1)"
   ]
  },
  {
   "cell_type": "code",
   "execution_count": 131,
   "id": "ahead-bride",
   "metadata": {},
   "outputs": [],
   "source": [
    "clean_n_grams(unigrams, 1)"
   ]
  },
  {
   "cell_type": "code",
   "execution_count": null,
   "id": "considerable-dispute",
   "metadata": {},
   "outputs": [],
   "source": []
  },
  {
   "cell_type": "code",
   "execution_count": 132,
   "id": "automatic-morocco",
   "metadata": {},
   "outputs": [],
   "source": [
    "unigram_count = sum(unigrams.values())    \n",
    "bigram_count = sum(bigrams.values()) "
   ]
  },
  {
   "cell_type": "code",
   "execution_count": 137,
   "id": "average-tunnel",
   "metadata": {},
   "outputs": [],
   "source": [
    "def pmi(n_gram, unigram_count, n_gram_count, unigrams, n_grams):\n",
    "    tokens = n_gram.split(' ')\n",
    "    tokens_p = [unigrams[token]/unigram_count for token in tokens]\n",
    "    n_gram_p = n_grams[n_gram] / n_gram_count\n",
    "    return math.log2(n_gram_p / reduce(lambda x, y: x*y , tokens_p, 1))"
   ]
  },
  {
   "cell_type": "code",
   "execution_count": 138,
   "id": "prepared-harrison",
   "metadata": {},
   "outputs": [
    {
     "data": {
      "text/plain": [
       "4.97607494079538"
      ]
     },
     "execution_count": 138,
     "metadata": {},
     "output_type": "execute_result"
    }
   ],
   "source": [
    "pmi('z dnia', unigram_count, bigram_count, unigrams, bigrams)"
   ]
  },
  {
   "cell_type": "code",
   "execution_count": 139,
   "id": "awful-national",
   "metadata": {},
   "outputs": [],
   "source": [
    "bigrams_pmi = {k: pmi(k, unigram_count, bigram_count, unigrams, bigrams) for k in bigrams.keys()}"
   ]
  },
  {
   "cell_type": "code",
   "execution_count": null,
   "id": "alien-semiconductor",
   "metadata": {},
   "outputs": [],
   "source": []
  },
  {
   "cell_type": "markdown",
   "id": "burning-theorem",
   "metadata": {},
   "source": [
    "# 5"
   ]
  },
  {
   "cell_type": "code",
   "execution_count": 141,
   "id": "cutting-tuner",
   "metadata": {},
   "outputs": [],
   "source": [
    "bigrams_pmi = OrderedDict(bigrams_pmi)"
   ]
  },
  {
   "cell_type": "code",
   "execution_count": 146,
   "id": "buried-bearing",
   "metadata": {},
   "outputs": [],
   "source": [
    "bigrams_pmi = OrderedDict(sorted(bigrams_pmi.items(), key=lambda x: x[1], reverse=True))"
   ]
  },
  {
   "cell_type": "code",
   "execution_count": 150,
   "id": "accessible-landscape",
   "metadata": {},
   "outputs": [
    {
     "data": {
      "text/plain": [
       "[('kwotom wydatkowanym', 22.305257090081515),\n",
       " ('jan kanty', 22.305257090081515),\n",
       " ('marka karpia', 22.305257090081515),\n",
       " ('aleksander małachowski', 22.305257090081515),\n",
       " ('wyrządziłoby niewspółmierną', 22.305257090081515),\n",
       " ('aleksandrów kujawski', 22.305257090081515),\n",
       " ('jezus nadchodzi', 22.305257090081515),\n",
       " ('bystrzyca kłodzka', 22.305257090081515),\n",
       " ('bielsk podlaski', 22.305257090081515),\n",
       " ('dubicze cerkiewne', 22.305257090081515)]"
      ]
     },
     "execution_count": 150,
     "metadata": {},
     "output_type": "execute_result"
    }
   ],
   "source": [
    "list(bigrams_pmi.items())[:10]"
   ]
  },
  {
   "cell_type": "markdown",
   "id": "moral-belfast",
   "metadata": {},
   "source": [
    "# 6"
   ]
  },
  {
   "cell_type": "code",
   "execution_count": 151,
   "id": "emotional-factory",
   "metadata": {},
   "outputs": [],
   "source": [
    "filterd_bigrams_pmi = OrderedDict({k: v for k, v in bigrams_pmi.items() if bigrams[k]>=5})"
   ]
  },
  {
   "cell_type": "code",
   "execution_count": 152,
   "id": "floral-treat",
   "metadata": {},
   "outputs": [],
   "source": [
    "filterd_bigrams_pmi = OrderedDict(sorted(filterd_bigrams_pmi.items(), key=lambda x: x[1], reverse=True))"
   ]
  },
  {
   "cell_type": "code",
   "execution_count": 153,
   "id": "stone-summit",
   "metadata": {},
   "outputs": [
    {
     "data": {
      "text/plain": [
       "[('ręcznego miotacza', 19.983328995194153),\n",
       " ('świeckie przygotowujące', 19.983328995194153),\n",
       " ('młynki młotkowe', 19.983328995194153),\n",
       " ('młyny kulowe', 19.983328995194153),\n",
       " ('otworami wiertniczymi', 19.983328995194153),\n",
       " ('zaszkodzić wynikom', 19.983328995194153),\n",
       " ('środa wlkp', 19.983328995194153),\n",
       " ('klęskami żywiołowymi', 19.983328995194153),\n",
       " ('grzegorz schetyna', 19.983328995194153),\n",
       " ('obcowania płciowego', 19.983328995194153)]"
      ]
     },
     "execution_count": 153,
     "metadata": {},
     "output_type": "execute_result"
    }
   ],
   "source": [
    "list(filterd_bigrams_pmi.items())[:10]"
   ]
  },
  {
   "cell_type": "code",
   "execution_count": null,
   "id": "sustained-syndrome",
   "metadata": {},
   "outputs": [],
   "source": []
  },
  {
   "cell_type": "markdown",
   "id": "proved-investor",
   "metadata": {},
   "source": [
    "# 7"
   ]
  },
  {
   "cell_type": "code",
   "execution_count": 156,
   "id": "polish-louis",
   "metadata": {},
   "outputs": [],
   "source": [
    "def denormEntropy(counts):\n",
    "    '''Computes the entropy of a list of counts scaled by the sum of the counts. If the inputs sum to one, this is just the normal definition of entropy'''\n",
    "    counts = list(counts)\n",
    "    total = float(sum(counts))\n",
    "    # Note tricky way to avoid 0*log(0)\n",
    "    return -sum([k * math.log(k/total + (k==0)) for k in counts])\n",
    "\n",
    "\n",
    "def llr_2x2(k11, k12, k21, k22):\n",
    "    '''Special case of llr with a 2x2 table'''\n",
    "    return 2 * (denormEntropy([k11+k12, k21+k22]) +\n",
    "                denormEntropy([k11+k21, k12+k22]) -\n",
    "                denormEntropy([k11, k12, k21, k22]))"
   ]
  },
  {
   "cell_type": "code",
   "execution_count": 160,
   "id": "recovered-franchise",
   "metadata": {},
   "outputs": [],
   "source": [
    "def count_token_pos(n_grams, n):\n",
    "    n_grams_token_pos = {i: defaultdict(int) for i in range(n)}\n",
    "    for ngram, count in n_grams.items():\n",
    "        tokens = ngram.split(' ')\n",
    "        for i, t in enumerate(tokens):\n",
    "            n_grams_token_pos[i][t] += count\n",
    "    return n_grams_token_pos"
   ]
  },
  {
   "cell_type": "code",
   "execution_count": 165,
   "id": "integral-stranger",
   "metadata": {},
   "outputs": [],
   "source": [
    "first_count, second_count = count_token_pos(bigrams, 2).values()"
   ]
  },
  {
   "cell_type": "code",
   "execution_count": 171,
   "id": "processed-gambling",
   "metadata": {},
   "outputs": [],
   "source": [
    "bigrams_llr = {}\n",
    "\n",
    "for bigram, count in bigrams.items():\n",
    "    first_token, second_token = bigram.split(' ')\n",
    "    k11 = count\n",
    "    k12 = second_count[second_token] - count\n",
    "    k21 = first_count[first_token] - count\n",
    "    k22 = bigram_count - (k11 + k12 + k21)\n",
    "    bigrams_llr[bigram] = llr_2x2(k11, k12, k21, k22)"
   ]
  },
  {
   "cell_type": "code",
   "execution_count": null,
   "id": "nasty-runner",
   "metadata": {},
   "outputs": [],
   "source": []
  },
  {
   "cell_type": "markdown",
   "id": "caroline-batman",
   "metadata": {},
   "source": [
    "# 8"
   ]
  },
  {
   "cell_type": "code",
   "execution_count": 172,
   "id": "orange-float",
   "metadata": {},
   "outputs": [],
   "source": [
    "bigrams_llr = OrderedDict(sorted(bigrams_llr.items(), key=lambda x: x[1], reverse=True))"
   ]
  },
  {
   "cell_type": "code",
   "execution_count": 173,
   "id": "animated-separation",
   "metadata": {},
   "outputs": [
    {
     "data": {
      "text/plain": [
       "[('mowa w', 169181.7376764058),\n",
       " ('w art', 113470.57289345935),\n",
       " ('otrzymuje brzmienie', 112413.77084682393),\n",
       " ('których mowa', 107451.54559534334),\n",
       " ('o których', 84683.54216866661),\n",
       " ('w ust', 82329.59548457037),\n",
       " ('którym mowa', 70218.26537712),\n",
       " ('dodaje się', 63860.42135516362),\n",
       " ('do spraw', 57706.31135198218),\n",
       " ('o którym', 55280.024054311216)]"
      ]
     },
     "execution_count": 173,
     "metadata": {},
     "output_type": "execute_result"
    }
   ],
   "source": [
    "list(bigrams_llr.items())[:10]"
   ]
  },
  {
   "cell_type": "code",
   "execution_count": null,
   "id": "blank-calvin",
   "metadata": {},
   "outputs": [],
   "source": []
  },
  {
   "cell_type": "markdown",
   "id": "civil-foster",
   "metadata": {},
   "source": [
    "# 9"
   ]
  },
  {
   "cell_type": "code",
   "execution_count": 174,
   "id": "sustained-cleanup",
   "metadata": {},
   "outputs": [],
   "source": [
    "trigrams = count_n_grams_dict(law_tokens, 3)\n",
    "clean_n_grams(trigrams, 3)"
   ]
  },
  {
   "cell_type": "code",
   "execution_count": null,
   "id": "heated-composition",
   "metadata": {},
   "outputs": [],
   "source": []
  },
  {
   "cell_type": "markdown",
   "id": "subtle-scenario",
   "metadata": {},
   "source": [
    "# 10"
   ]
  },
  {
   "cell_type": "code",
   "execution_count": 175,
   "id": "ecological-herald",
   "metadata": {},
   "outputs": [],
   "source": [
    "trigram_count = sum(trigrams.values()) "
   ]
  },
  {
   "cell_type": "code",
   "execution_count": 180,
   "id": "occupied-islam",
   "metadata": {},
   "outputs": [],
   "source": [
    "trigrams_pmi = {k: pmi(k, unigram_count, trigram_count, unigrams, trigrams) for k in trigrams.keys()}"
   ]
  },
  {
   "cell_type": "code",
   "execution_count": 181,
   "id": "iraqi-distributor",
   "metadata": {},
   "outputs": [],
   "source": [
    "filterd_trigrams_pmi = OrderedDict({k: v for k, v in trigrams_pmi.items() if trigrams[k]>=5})"
   ]
  },
  {
   "cell_type": "code",
   "execution_count": 182,
   "id": "grand-twenty",
   "metadata": {},
   "outputs": [],
   "source": [
    "filterd_trigrams_pmi = OrderedDict(sorted(filterd_trigrams_pmi.items(), key=lambda x: x[1], reverse=True))"
   ]
  },
  {
   "cell_type": "code",
   "execution_count": 183,
   "id": "comic-import",
   "metadata": {},
   "outputs": [
    {
     "data": {
      "text/plain": [
       "[('profilem zaufanym epuap', 37.02371880914245),\n",
       " ('finałowego turnieju mistrzostw', 36.643238531899975),\n",
       " ('przedwczesnego wyrębu drzewostanu', 36.46968613495318),\n",
       " ('potwierdzonym profilem zaufanym', 36.3507001317561),\n",
       " ('piłce nożnej uefa', 36.292147949400984),\n",
       " ('cienką sierścią zwierzęcą', 35.94314032045734),\n",
       " ('szybkiemu postępowi technicznemu', 35.878297365072584),\n",
       " ('turnieju mistrzostw europy', 35.877703785537),\n",
       " ('grożącą jemu samemu', 35.63679612078843),\n",
       " ('wypalonym paliwem jądrowym', 35.562795539344656)]"
      ]
     },
     "execution_count": 183,
     "metadata": {},
     "output_type": "execute_result"
    }
   ],
   "source": [
    "list(filterd_trigrams_pmi.items())[:10]"
   ]
  },
  {
   "cell_type": "code",
   "execution_count": 184,
   "id": "special-basket",
   "metadata": {},
   "outputs": [],
   "source": [
    "first_count, second_count, third_count = count_token_pos(trigrams, 3).values()"
   ]
  },
  {
   "cell_type": "code",
   "execution_count": 185,
   "id": "domestic-christopher",
   "metadata": {},
   "outputs": [],
   "source": [
    "trigrams_llr = {}\n",
    "\n",
    "for trigram, count in trigrams.items():\n",
    "    first_token, second_token, third_token = trigram.split(' ')\n",
    "    k11 = count\n",
    "    k1 = first_count[first_token] - count\n",
    "    k2 = second_count[second_token] - count\n",
    "    k3 = third_count[third_token] - count\n",
    "    k33 = trigram_count - (k11 + k12 + k21)\n",
    "    trigrams_llr[trigram] = llr_2x2(k11, k2, k1, k33)/3 + llr_2x2(k11, k3, k2, k33)/3 + llr_2x2(k11, k3, k1, k33)/3"
   ]
  },
  {
   "cell_type": "code",
   "execution_count": null,
   "id": "hydraulic-prince",
   "metadata": {},
   "outputs": [],
   "source": []
  },
  {
   "cell_type": "code",
   "execution_count": 186,
   "id": "difficult-paint",
   "metadata": {},
   "outputs": [],
   "source": [
    "trigrams_llr = OrderedDict(sorted(trigrams_llr.items(), key=lambda x: x[1], reverse=True))"
   ]
  },
  {
   "cell_type": "code",
   "execution_count": 187,
   "id": "proprietary-group",
   "metadata": {},
   "outputs": [
    {
     "data": {
      "text/plain": [
       "[('o których mowa', 74867.2374197212),\n",
       " ('których mowa w', 66024.52174543576),\n",
       " ('mowa w ust', 57527.66018026951),\n",
       " ('o którym mowa', 47180.656883170406),\n",
       " ('mowa w art', 44345.515028177586),\n",
       " ('którym mowa w', 41445.0919144674),\n",
       " ('minister właściwy do', 31989.829517168364),\n",
       " ('właściwy do spraw', 31614.3212571622),\n",
       " ('o której mowa', 25549.948442581925),\n",
       " ('w drodze rozporządzenia', 24395.458024731957)]"
      ]
     },
     "execution_count": 187,
     "metadata": {},
     "output_type": "execute_result"
    }
   ],
   "source": [
    "list(trigrams_llr.items())[:10]"
   ]
  },
  {
   "cell_type": "code",
   "execution_count": null,
   "id": "manual-modification",
   "metadata": {},
   "outputs": [],
   "source": []
  },
  {
   "cell_type": "markdown",
   "id": "convertible-first",
   "metadata": {},
   "source": [
    "# 11"
   ]
  },
  {
   "cell_type": "code",
   "execution_count": 205,
   "id": "silver-ultimate",
   "metadata": {},
   "outputs": [],
   "source": [
    "table2 = [[a, b, c, d] for (a, b),  (c, d) in zip(list(filterd_bigrams_pmi.items())[:20], list(bigrams_llr.items())[:20])]"
   ]
  },
  {
   "cell_type": "code",
   "execution_count": 206,
   "id": "collaborative-tribute",
   "metadata": {},
   "outputs": [
    {
     "data": {
      "text/html": [
       "<div>\n",
       "<style scoped>\n",
       "    .dataframe tbody tr th:only-of-type {\n",
       "        vertical-align: middle;\n",
       "    }\n",
       "\n",
       "    .dataframe tbody tr th {\n",
       "        vertical-align: top;\n",
       "    }\n",
       "\n",
       "    .dataframe thead th {\n",
       "        text-align: right;\n",
       "    }\n",
       "</style>\n",
       "<table border=\"1\" class=\"dataframe\">\n",
       "  <thead>\n",
       "    <tr style=\"text-align: right;\">\n",
       "      <th></th>\n",
       "      <th>PMI token</th>\n",
       "      <th>PMI score</th>\n",
       "      <th>LLR token</th>\n",
       "      <th>LLR score</th>\n",
       "    </tr>\n",
       "  </thead>\n",
       "  <tbody>\n",
       "    <tr>\n",
       "      <th>0</th>\n",
       "      <td>ręcznego miotacza</td>\n",
       "      <td>19.983329</td>\n",
       "      <td>mowa w</td>\n",
       "      <td>169181.737676</td>\n",
       "    </tr>\n",
       "    <tr>\n",
       "      <th>1</th>\n",
       "      <td>świeckie przygotowujące</td>\n",
       "      <td>19.983329</td>\n",
       "      <td>w art</td>\n",
       "      <td>113470.572893</td>\n",
       "    </tr>\n",
       "    <tr>\n",
       "      <th>2</th>\n",
       "      <td>młynki młotkowe</td>\n",
       "      <td>19.983329</td>\n",
       "      <td>otrzymuje brzmienie</td>\n",
       "      <td>112413.770847</td>\n",
       "    </tr>\n",
       "    <tr>\n",
       "      <th>3</th>\n",
       "      <td>młyny kulowe</td>\n",
       "      <td>19.983329</td>\n",
       "      <td>których mowa</td>\n",
       "      <td>107451.545595</td>\n",
       "    </tr>\n",
       "    <tr>\n",
       "      <th>4</th>\n",
       "      <td>otworami wiertniczymi</td>\n",
       "      <td>19.983329</td>\n",
       "      <td>o których</td>\n",
       "      <td>84683.542169</td>\n",
       "    </tr>\n",
       "    <tr>\n",
       "      <th>5</th>\n",
       "      <td>zaszkodzić wynikom</td>\n",
       "      <td>19.983329</td>\n",
       "      <td>w ust</td>\n",
       "      <td>82329.595485</td>\n",
       "    </tr>\n",
       "    <tr>\n",
       "      <th>6</th>\n",
       "      <td>środa wlkp</td>\n",
       "      <td>19.983329</td>\n",
       "      <td>którym mowa</td>\n",
       "      <td>70218.265377</td>\n",
       "    </tr>\n",
       "    <tr>\n",
       "      <th>7</th>\n",
       "      <td>klęskami żywiołowymi</td>\n",
       "      <td>19.983329</td>\n",
       "      <td>dodaje się</td>\n",
       "      <td>63860.421355</td>\n",
       "    </tr>\n",
       "    <tr>\n",
       "      <th>8</th>\n",
       "      <td>grzegorz schetyna</td>\n",
       "      <td>19.983329</td>\n",
       "      <td>do spraw</td>\n",
       "      <td>57706.311352</td>\n",
       "    </tr>\n",
       "    <tr>\n",
       "      <th>9</th>\n",
       "      <td>obcowania płciowego</td>\n",
       "      <td>19.983329</td>\n",
       "      <td>o którym</td>\n",
       "      <td>55280.024054</td>\n",
       "    </tr>\n",
       "    <tr>\n",
       "      <th>10</th>\n",
       "      <td>stajnią wyścigową</td>\n",
       "      <td>19.983329</td>\n",
       "      <td>i nr</td>\n",
       "      <td>50912.214028</td>\n",
       "    </tr>\n",
       "    <tr>\n",
       "      <th>11</th>\n",
       "      <td>przeponowe rurowe</td>\n",
       "      <td>19.720295</td>\n",
       "      <td>stosuje się</td>\n",
       "      <td>49999.329246</td>\n",
       "    </tr>\n",
       "    <tr>\n",
       "      <th>12</th>\n",
       "      <td>odczynów poszczepiennych</td>\n",
       "      <td>19.720295</td>\n",
       "      <td>minister właściwy</td>\n",
       "      <td>47426.841643</td>\n",
       "    </tr>\n",
       "    <tr>\n",
       "      <th>13</th>\n",
       "      <td>diagności laboratoryjni</td>\n",
       "      <td>19.720295</td>\n",
       "      <td>z dnia</td>\n",
       "      <td>47100.016789</td>\n",
       "    </tr>\n",
       "    <tr>\n",
       "      <th>14</th>\n",
       "      <td>adama mickiewicza</td>\n",
       "      <td>19.720295</td>\n",
       "      <td>na podstawie</td>\n",
       "      <td>46697.647838</td>\n",
       "    </tr>\n",
       "    <tr>\n",
       "      <th>15</th>\n",
       "      <td>mleczka makowego</td>\n",
       "      <td>19.720295</td>\n",
       "      <td>drodze rozporządzenia</td>\n",
       "      <td>45122.273465</td>\n",
       "    </tr>\n",
       "    <tr>\n",
       "      <th>16</th>\n",
       "      <td>klęską żywiołową</td>\n",
       "      <td>19.497902</td>\n",
       "      <td>rzeczypospolitej polskiej</td>\n",
       "      <td>40564.903544</td>\n",
       "    </tr>\n",
       "    <tr>\n",
       "      <th>17</th>\n",
       "      <td>chwytów obezwładniających</td>\n",
       "      <td>19.497902</td>\n",
       "      <td>której mowa</td>\n",
       "      <td>40149.399883</td>\n",
       "    </tr>\n",
       "    <tr>\n",
       "      <th>18</th>\n",
       "      <td>piotrków trybunalski</td>\n",
       "      <td>19.497902</td>\n",
       "      <td>zastępuje się</td>\n",
       "      <td>36246.201362</td>\n",
       "    </tr>\n",
       "    <tr>\n",
       "      <th>19</th>\n",
       "      <td>papierem wartościowym</td>\n",
       "      <td>19.497902</td>\n",
       "      <td>w brzmieniu</td>\n",
       "      <td>35170.813903</td>\n",
       "    </tr>\n",
       "  </tbody>\n",
       "</table>\n",
       "</div>"
      ],
      "text/plain": [
       "                    PMI token  PMI score                  LLR token  \\\n",
       "0           ręcznego miotacza  19.983329                     mowa w   \n",
       "1     świeckie przygotowujące  19.983329                      w art   \n",
       "2             młynki młotkowe  19.983329        otrzymuje brzmienie   \n",
       "3                młyny kulowe  19.983329               których mowa   \n",
       "4       otworami wiertniczymi  19.983329                  o których   \n",
       "5          zaszkodzić wynikom  19.983329                      w ust   \n",
       "6                  środa wlkp  19.983329                którym mowa   \n",
       "7        klęskami żywiołowymi  19.983329                 dodaje się   \n",
       "8           grzegorz schetyna  19.983329                   do spraw   \n",
       "9         obcowania płciowego  19.983329                   o którym   \n",
       "10          stajnią wyścigową  19.983329                       i nr   \n",
       "11          przeponowe rurowe  19.720295                stosuje się   \n",
       "12   odczynów poszczepiennych  19.720295          minister właściwy   \n",
       "13    diagności laboratoryjni  19.720295                     z dnia   \n",
       "14          adama mickiewicza  19.720295               na podstawie   \n",
       "15           mleczka makowego  19.720295      drodze rozporządzenia   \n",
       "16           klęską żywiołową  19.497902  rzeczypospolitej polskiej   \n",
       "17  chwytów obezwładniających  19.497902                której mowa   \n",
       "18       piotrków trybunalski  19.497902              zastępuje się   \n",
       "19      papierem wartościowym  19.497902                w brzmieniu   \n",
       "\n",
       "        LLR score  \n",
       "0   169181.737676  \n",
       "1   113470.572893  \n",
       "2   112413.770847  \n",
       "3   107451.545595  \n",
       "4    84683.542169  \n",
       "5    82329.595485  \n",
       "6    70218.265377  \n",
       "7    63860.421355  \n",
       "8    57706.311352  \n",
       "9    55280.024054  \n",
       "10   50912.214028  \n",
       "11   49999.329246  \n",
       "12   47426.841643  \n",
       "13   47100.016789  \n",
       "14   46697.647838  \n",
       "15   45122.273465  \n",
       "16   40564.903544  \n",
       "17   40149.399883  \n",
       "18   36246.201362  \n",
       "19   35170.813903  "
      ]
     },
     "execution_count": 206,
     "metadata": {},
     "output_type": "execute_result"
    }
   ],
   "source": [
    "pd.DataFrame(table2, columns=['PMI token', 'PMI score', 'LLR token', 'LLR score'])"
   ]
  },
  {
   "cell_type": "code",
   "execution_count": null,
   "id": "fossil-nashville",
   "metadata": {},
   "outputs": [],
   "source": []
  },
  {
   "cell_type": "code",
   "execution_count": 207,
   "id": "satellite-basketball",
   "metadata": {},
   "outputs": [],
   "source": [
    "table3 = [[a, b, c, d] for (a, b),  (c, d) in zip(list(filterd_trigrams_pmi.items())[:20], list(trigrams_llr.items())[:20])]"
   ]
  },
  {
   "cell_type": "code",
   "execution_count": 208,
   "id": "italic-latitude",
   "metadata": {},
   "outputs": [
    {
     "data": {
      "text/html": [
       "<div>\n",
       "<style scoped>\n",
       "    .dataframe tbody tr th:only-of-type {\n",
       "        vertical-align: middle;\n",
       "    }\n",
       "\n",
       "    .dataframe tbody tr th {\n",
       "        vertical-align: top;\n",
       "    }\n",
       "\n",
       "    .dataframe thead th {\n",
       "        text-align: right;\n",
       "    }\n",
       "</style>\n",
       "<table border=\"1\" class=\"dataframe\">\n",
       "  <thead>\n",
       "    <tr style=\"text-align: right;\">\n",
       "      <th></th>\n",
       "      <th>PMI token</th>\n",
       "      <th>PMI score</th>\n",
       "      <th>LLR token</th>\n",
       "      <th>LLR score</th>\n",
       "    </tr>\n",
       "  </thead>\n",
       "  <tbody>\n",
       "    <tr>\n",
       "      <th>0</th>\n",
       "      <td>profilem zaufanym epuap</td>\n",
       "      <td>37.023719</td>\n",
       "      <td>o których mowa</td>\n",
       "      <td>74867.237420</td>\n",
       "    </tr>\n",
       "    <tr>\n",
       "      <th>1</th>\n",
       "      <td>finałowego turnieju mistrzostw</td>\n",
       "      <td>36.643239</td>\n",
       "      <td>których mowa w</td>\n",
       "      <td>66024.521745</td>\n",
       "    </tr>\n",
       "    <tr>\n",
       "      <th>2</th>\n",
       "      <td>przedwczesnego wyrębu drzewostanu</td>\n",
       "      <td>36.469686</td>\n",
       "      <td>mowa w ust</td>\n",
       "      <td>57527.660180</td>\n",
       "    </tr>\n",
       "    <tr>\n",
       "      <th>3</th>\n",
       "      <td>potwierdzonym profilem zaufanym</td>\n",
       "      <td>36.350700</td>\n",
       "      <td>o którym mowa</td>\n",
       "      <td>47180.656883</td>\n",
       "    </tr>\n",
       "    <tr>\n",
       "      <th>4</th>\n",
       "      <td>piłce nożnej uefa</td>\n",
       "      <td>36.292148</td>\n",
       "      <td>mowa w art</td>\n",
       "      <td>44345.515028</td>\n",
       "    </tr>\n",
       "    <tr>\n",
       "      <th>5</th>\n",
       "      <td>cienką sierścią zwierzęcą</td>\n",
       "      <td>35.943140</td>\n",
       "      <td>którym mowa w</td>\n",
       "      <td>41445.091914</td>\n",
       "    </tr>\n",
       "    <tr>\n",
       "      <th>6</th>\n",
       "      <td>szybkiemu postępowi technicznemu</td>\n",
       "      <td>35.878297</td>\n",
       "      <td>minister właściwy do</td>\n",
       "      <td>31989.829517</td>\n",
       "    </tr>\n",
       "    <tr>\n",
       "      <th>7</th>\n",
       "      <td>turnieju mistrzostw europy</td>\n",
       "      <td>35.877704</td>\n",
       "      <td>właściwy do spraw</td>\n",
       "      <td>31614.321257</td>\n",
       "    </tr>\n",
       "    <tr>\n",
       "      <th>8</th>\n",
       "      <td>grożącą jemu samemu</td>\n",
       "      <td>35.636796</td>\n",
       "      <td>o której mowa</td>\n",
       "      <td>25549.948443</td>\n",
       "    </tr>\n",
       "    <tr>\n",
       "      <th>9</th>\n",
       "      <td>wypalonym paliwem jądrowym</td>\n",
       "      <td>35.562796</td>\n",
       "      <td>w drodze rozporządzenia</td>\n",
       "      <td>24395.458025</td>\n",
       "    </tr>\n",
       "    <tr>\n",
       "      <th>10</th>\n",
       "      <td>kurtki anorak etc</td>\n",
       "      <td>35.495681</td>\n",
       "      <td>której mowa w</td>\n",
       "      <td>22034.015624</td>\n",
       "    </tr>\n",
       "    <tr>\n",
       "      <th>11</th>\n",
       "      <td>zaszkodzić wynikom podjętych</td>\n",
       "      <td>35.206920</td>\n",
       "      <td>ustawie z dnia</td>\n",
       "      <td>21852.608030</td>\n",
       "    </tr>\n",
       "    <tr>\n",
       "      <th>12</th>\n",
       "      <td>poddanych szybkiemu postępowi</td>\n",
       "      <td>35.183152</td>\n",
       "      <td>zastępuje się wyrazami</td>\n",
       "      <td>19716.023553</td>\n",
       "    </tr>\n",
       "    <tr>\n",
       "      <th>13</th>\n",
       "      <td>byłych hitlerowskich obozów</td>\n",
       "      <td>35.161781</td>\n",
       "      <td>stosuje się odpowiednio</td>\n",
       "      <td>19162.040623</td>\n",
       "    </tr>\n",
       "    <tr>\n",
       "      <th>14</th>\n",
       "      <td>mln dolarów usa</td>\n",
       "      <td>35.058276</td>\n",
       "      <td>wejścia w życie</td>\n",
       "      <td>14914.288085</td>\n",
       "    </tr>\n",
       "    <tr>\n",
       "      <th>15</th>\n",
       "      <td>niepożądanych odczynów poszczepiennych</td>\n",
       "      <td>35.048222</td>\n",
       "      <td>wprowadza się następujące</td>\n",
       "      <td>13914.460170</td>\n",
       "    </tr>\n",
       "    <tr>\n",
       "      <th>16</th>\n",
       "      <td>religijne uroczystości pogrzebowe</td>\n",
       "      <td>34.951361</td>\n",
       "      <td>w ustawie z</td>\n",
       "      <td>13357.263290</td>\n",
       "    </tr>\n",
       "    <tr>\n",
       "      <th>17</th>\n",
       "      <td>dysfunkcji narządu wzroku</td>\n",
       "      <td>34.910719</td>\n",
       "      <td>się następujące zmiany</td>\n",
       "      <td>13056.778178</td>\n",
       "    </tr>\n",
       "    <tr>\n",
       "      <th>18</th>\n",
       "      <td>trwale zniekształcających rzeźbę</td>\n",
       "      <td>34.862356</td>\n",
       "      <td>dni od dnia</td>\n",
       "      <td>12948.201727</td>\n",
       "    </tr>\n",
       "    <tr>\n",
       "      <th>19</th>\n",
       "      <td>komunalne osady ściekowe</td>\n",
       "      <td>34.811183</td>\n",
       "      <td>ustawy z dnia</td>\n",
       "      <td>11835.999679</td>\n",
       "    </tr>\n",
       "  </tbody>\n",
       "</table>\n",
       "</div>"
      ],
      "text/plain": [
       "                                 PMI token  PMI score  \\\n",
       "0                  profilem zaufanym epuap  37.023719   \n",
       "1           finałowego turnieju mistrzostw  36.643239   \n",
       "2        przedwczesnego wyrębu drzewostanu  36.469686   \n",
       "3          potwierdzonym profilem zaufanym  36.350700   \n",
       "4                        piłce nożnej uefa  36.292148   \n",
       "5                cienką sierścią zwierzęcą  35.943140   \n",
       "6         szybkiemu postępowi technicznemu  35.878297   \n",
       "7               turnieju mistrzostw europy  35.877704   \n",
       "8                      grożącą jemu samemu  35.636796   \n",
       "9               wypalonym paliwem jądrowym  35.562796   \n",
       "10                       kurtki anorak etc  35.495681   \n",
       "11            zaszkodzić wynikom podjętych  35.206920   \n",
       "12           poddanych szybkiemu postępowi  35.183152   \n",
       "13             byłych hitlerowskich obozów  35.161781   \n",
       "14                         mln dolarów usa  35.058276   \n",
       "15  niepożądanych odczynów poszczepiennych  35.048222   \n",
       "16       religijne uroczystości pogrzebowe  34.951361   \n",
       "17               dysfunkcji narządu wzroku  34.910719   \n",
       "18        trwale zniekształcających rzeźbę  34.862356   \n",
       "19                komunalne osady ściekowe  34.811183   \n",
       "\n",
       "                    LLR token     LLR score  \n",
       "0              o których mowa  74867.237420  \n",
       "1              których mowa w  66024.521745  \n",
       "2                  mowa w ust  57527.660180  \n",
       "3               o którym mowa  47180.656883  \n",
       "4                  mowa w art  44345.515028  \n",
       "5               którym mowa w  41445.091914  \n",
       "6        minister właściwy do  31989.829517  \n",
       "7           właściwy do spraw  31614.321257  \n",
       "8               o której mowa  25549.948443  \n",
       "9     w drodze rozporządzenia  24395.458025  \n",
       "10              której mowa w  22034.015624  \n",
       "11             ustawie z dnia  21852.608030  \n",
       "12     zastępuje się wyrazami  19716.023553  \n",
       "13    stosuje się odpowiednio  19162.040623  \n",
       "14            wejścia w życie  14914.288085  \n",
       "15  wprowadza się następujące  13914.460170  \n",
       "16                w ustawie z  13357.263290  \n",
       "17     się następujące zmiany  13056.778178  \n",
       "18                dni od dnia  12948.201727  \n",
       "19              ustawy z dnia  11835.999679  "
      ]
     },
     "execution_count": 208,
     "metadata": {},
     "output_type": "execute_result"
    }
   ],
   "source": [
    "pd.DataFrame(table3, columns=['PMI token', 'PMI score', 'LLR token', 'LLR score'])"
   ]
  },
  {
   "cell_type": "code",
   "execution_count": null,
   "id": "about-registration",
   "metadata": {},
   "outputs": [],
   "source": []
  },
  {
   "cell_type": "markdown",
   "id": "lightweight-teddy",
   "metadata": {},
   "source": [
    "\n",
    "# 12"
   ]
  },
  {
   "cell_type": "markdown",
   "id": "north-resort",
   "metadata": {},
   "source": [
    "Answer the following questions:\n",
    "\n",
    "    Why do we have to filter the bigrams, rather than the token sequence?\n",
    "    \n",
    "    - W celu uniknięcia łączenia oddalonych od siebie słów w n-gramy\n",
    "    \n",
    "    \n",
    "    Which measure (PMI, PMI with filtering, LLR) works better for the bigrams and which for the trigrams?\n",
    "    \n",
    "    - Ciężko powiedzieć co znaczy lepiej, moim zdaniem dla obydwu zagadnień bardziej znaczące wyniki daje LLR\n",
    "    \n",
    "    \n",
    "    What types of expressions are discovered by the methods.\n",
    "    \n",
    "    - Przez PMI raczej n-gramy zawierające specyficzne, rzadko występujące słowe, przez LLR raczej bardzo częste n-gramy\n",
    "    \n",
    "    \n",
    "    Can you devise a different type of filtering that would yield better results?\n",
    "    \n",
    "    - Myślę że mogłaby pomóc lematyzacja słów w n-gramach\n"
   ]
  },
  {
   "cell_type": "code",
   "execution_count": null,
   "id": "accomplished-camera",
   "metadata": {},
   "outputs": [],
   "source": []
  }
 ],
 "metadata": {
  "kernelspec": {
   "display_name": "iet_env",
   "language": "python",
   "name": "iet_env"
  },
  "language_info": {
   "codemirror_mode": {
    "name": "ipython",
    "version": 3
   },
   "file_extension": ".py",
   "mimetype": "text/x-python",
   "name": "python",
   "nbconvert_exporter": "python",
   "pygments_lexer": "ipython3",
   "version": "3.8.5"
  }
 },
 "nbformat": 4,
 "nbformat_minor": 5
}
