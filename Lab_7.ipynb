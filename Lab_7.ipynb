{
 "cells": [
  {
   "cell_type": "code",
   "execution_count": 1,
   "id": "102a9833",
   "metadata": {},
   "outputs": [],
   "source": [
    "import os\n",
    "PATH = \"/home/mdobrzanski/playground/IET/NLP/ustawy/\"\n",
    "%config Completer.use_jedi = False"
   ]
  },
  {
   "cell_type": "code",
   "execution_count": 47,
   "id": "540dd151",
   "metadata": {},
   "outputs": [],
   "source": [
    "import re\n",
    "import time\n",
    "from collections import defaultdict, Counter, OrderedDict\n",
    "from functools import reduce\n",
    "import math\n",
    "import pandas as pd\n",
    "import requests\n",
    "import collections\n",
    "import tensorflow as tf\n",
    "import torch as pytorch\n",
    "from datasets import load_dataset\n",
    "from sklearn.feature_extraction.text import TfidfVectorizer\n",
    "from sklearn.naive_bayes import MultinomialNB\n",
    "from sklearn.metrics import accuracy_score, f1_score, matthews_corrcoef, confusion_matrix, precision_score, recall_score\n",
    "from imblearn.over_sampling import RandomOverSampler\n",
    "import fasttext\n",
    "from transformers import TFBertForSequenceClassification\n",
    "from lime.lime_text import LimeTextExplainer"
   ]
  },
  {
   "cell_type": "code",
   "execution_count": 44,
   "id": "0d25703b",
   "metadata": {},
   "outputs": [
    {
     "name": "stdout",
     "output_type": "stream",
     "text": [
      "Collecting lime\n",
      "  Downloading lime-0.2.0.1.tar.gz (275 kB)\n",
      "\u001b[K     |████████████████████████████████| 275 kB 1.2 MB/s eta 0:00:01\n",
      "\u001b[?25hRequirement already satisfied: matplotlib in /home/mdobrzanski/anaconda3/envs/iet_env/lib/python3.8/site-packages (from lime) (3.4.3)\n",
      "Requirement already satisfied: numpy in /home/mdobrzanski/anaconda3/envs/iet_env/lib/python3.8/site-packages (from lime) (1.19.5)\n",
      "Requirement already satisfied: scipy in /home/mdobrzanski/anaconda3/envs/iet_env/lib/python3.8/site-packages (from lime) (1.4.1)\n",
      "Requirement already satisfied: tqdm in /home/mdobrzanski/anaconda3/envs/iet_env/lib/python3.8/site-packages (from lime) (4.62.3)\n",
      "Requirement already satisfied: scikit-learn>=0.18 in /home/mdobrzanski/anaconda3/envs/iet_env/lib/python3.8/site-packages (from lime) (1.0.1)\n",
      "Collecting scikit-image>=0.12\n",
      "  Downloading scikit_image-0.19.0-cp38-cp38-manylinux_2_17_x86_64.manylinux2014_x86_64.whl (60.7 MB)\n",
      "\u001b[K     |████████████████████████████████| 60.7 MB 39.0 MB/s eta 0:00:01\n",
      "\u001b[?25hRequirement already satisfied: pyparsing>=2.2.1 in /home/mdobrzanski/anaconda3/envs/iet_env/lib/python3.8/site-packages (from matplotlib->lime) (3.0.3)\n",
      "Requirement already satisfied: pillow>=6.2.0 in /home/mdobrzanski/anaconda3/envs/iet_env/lib/python3.8/site-packages (from matplotlib->lime) (8.4.0)\n",
      "Requirement already satisfied: cycler>=0.10 in /home/mdobrzanski/anaconda3/envs/iet_env/lib/python3.8/site-packages (from matplotlib->lime) (0.10.0)\n",
      "Requirement already satisfied: python-dateutil>=2.7 in /home/mdobrzanski/anaconda3/envs/iet_env/lib/python3.8/site-packages (from matplotlib->lime) (2.8.1)\n",
      "Requirement already satisfied: kiwisolver>=1.0.1 in /home/mdobrzanski/anaconda3/envs/iet_env/lib/python3.8/site-packages (from matplotlib->lime) (1.3.2)\n",
      "Requirement already satisfied: threadpoolctl>=2.0.0 in /home/mdobrzanski/anaconda3/envs/iet_env/lib/python3.8/site-packages (from scikit-learn>=0.18->lime) (3.0.0)\n",
      "Requirement already satisfied: joblib>=0.11 in /home/mdobrzanski/anaconda3/envs/iet_env/lib/python3.8/site-packages (from scikit-learn>=0.18->lime) (1.1.0)\n",
      "Requirement already satisfied: packaging>=20.0 in /home/mdobrzanski/anaconda3/envs/iet_env/lib/python3.8/site-packages (from scikit-image>=0.12->lime) (20.4)\n",
      "Collecting tifffile>=2019.7.26\n",
      "  Downloading tifffile-2021.11.2-py3-none-any.whl (178 kB)\n",
      "\u001b[K     |████████████████████████████████| 178 kB 25.3 MB/s eta 0:00:01\n",
      "\u001b[?25hRequirement already satisfied: networkx>=2.2 in /home/mdobrzanski/anaconda3/envs/iet_env/lib/python3.8/site-packages (from scikit-image>=0.12->lime) (2.4)\n",
      "Collecting imageio>=2.4.1\n",
      "  Downloading imageio-2.13.3-py3-none-any.whl (3.3 MB)\n",
      "\u001b[K     |████████████████████████████████| 3.3 MB 1.9 MB/s eta 0:00:01\n",
      "\u001b[?25hCollecting PyWavelets>=1.1.1\n",
      "  Downloading PyWavelets-1.2.0-cp38-cp38-manylinux_2_5_x86_64.manylinux1_x86_64.whl (6.3 MB)\n",
      "\u001b[K     |████████████████████████████████| 6.3 MB 24.9 MB/s eta 0:00:01\n",
      "\u001b[?25hRequirement already satisfied: six in /home/mdobrzanski/anaconda3/envs/iet_env/lib/python3.8/site-packages (from cycler>=0.10->matplotlib->lime) (1.14.0)\n",
      "Requirement already satisfied: decorator>=4.3.0 in /home/mdobrzanski/anaconda3/envs/iet_env/lib/python3.8/site-packages (from networkx>=2.2->scikit-image>=0.12->lime) (4.4.2)\n",
      "Building wheels for collected packages: lime\n",
      "  Building wheel for lime (setup.py) ... \u001b[?25ldone\n",
      "\u001b[?25h  Created wheel for lime: filename=lime-0.2.0.1-py3-none-any.whl size=283845 sha256=d1ad1b72620ecce7f9f6ba0eb6846a01d146057bcee19bfa73ba922dbb60c251\n",
      "  Stored in directory: /home/mdobrzanski/.cache/pip/wheels/e6/a6/20/cc1e293fcdb67ede666fed293cb895395e7ecceb4467779546\n",
      "Successfully built lime\n",
      "Installing collected packages: tifffile, imageio, PyWavelets, scikit-image, lime\n",
      "Successfully installed PyWavelets-1.2.0 imageio-2.13.3 lime-0.2.0.1 scikit-image-0.19.0 tifffile-2021.11.2\n",
      "Note: you may need to restart the kernel to use updated packages.\n"
     ]
    }
   ],
   "source": [
    "pip install lime"
   ]
  },
  {
   "cell_type": "code",
   "execution_count": 3,
   "id": "1a282175",
   "metadata": {},
   "outputs": [],
   "source": [
    "from simpletransformers.classification import ClassificationModel"
   ]
  },
  {
   "cell_type": "code",
   "execution_count": 4,
   "id": "8df9645f",
   "metadata": {},
   "outputs": [
    {
     "data": {
      "text/plain": [
       "True"
      ]
     },
     "execution_count": 4,
     "metadata": {},
     "output_type": "execute_result"
    }
   ],
   "source": [
    "pytorch.cuda.is_available()"
   ]
  },
  {
   "cell_type": "code",
   "execution_count": 5,
   "id": "67a42455",
   "metadata": {},
   "outputs": [],
   "source": [
    "# pytorch.cuda.get_device_name(0)"
   ]
  },
  {
   "cell_type": "code",
   "execution_count": 6,
   "id": "56d16312",
   "metadata": {},
   "outputs": [
    {
     "name": "stdout",
     "output_type": "stream",
     "text": [
      "Num GPUs Available:  1\n"
     ]
    }
   ],
   "source": [
    "print(\"Num GPUs Available: \", len(tf.config.list_physical_devices('GPU')))"
   ]
  },
  {
   "cell_type": "code",
   "execution_count": 7,
   "id": "8087a340",
   "metadata": {},
   "outputs": [],
   "source": [
    "# pip install torch==1.8.0"
   ]
  },
  {
   "cell_type": "code",
   "execution_count": 8,
   "id": "close-panama",
   "metadata": {},
   "outputs": [],
   "source": [
    "from ipywidgets import IntProgress"
   ]
  },
  {
   "cell_type": "markdown",
   "id": "86d164e6",
   "metadata": {},
   "source": [
    "# 1"
   ]
  },
  {
   "cell_type": "code",
   "execution_count": 9,
   "id": "953d18db",
   "metadata": {},
   "outputs": [
    {
     "name": "stderr",
     "output_type": "stream",
     "text": [
      "Reusing dataset poleval2019_cyber_bullying (/home/mdobrzanski/.cache/huggingface/datasets/poleval2019_cyber_bullying/task01/1.0.0/ce6060c56dae43c469bab309a7573b86299b0bcc2484e85cfe0ae70b5f770450)\n"
     ]
    },
    {
     "data": {
      "application/vnd.jupyter.widget-view+json": {
       "model_id": "80b972ff2a514d60886918a9dc502f3a",
       "version_major": 2,
       "version_minor": 0
      },
      "text/plain": [
       "  0%|          | 0/2 [00:00<?, ?it/s]"
      ]
     },
     "metadata": {},
     "output_type": "display_data"
    }
   ],
   "source": [
    "dataset_1 = load_dataset(\"poleval2019_cyberbullying\", 'task01')"
   ]
  },
  {
   "cell_type": "code",
   "execution_count": 10,
   "id": "bab051ef",
   "metadata": {},
   "outputs": [
    {
     "name": "stderr",
     "output_type": "stream",
     "text": [
      "Reusing dataset poleval2019_cyber_bullying (/home/mdobrzanski/.cache/huggingface/datasets/poleval2019_cyber_bullying/task02/1.0.0/ce6060c56dae43c469bab309a7573b86299b0bcc2484e85cfe0ae70b5f770450)\n"
     ]
    },
    {
     "data": {
      "application/vnd.jupyter.widget-view+json": {
       "model_id": "a90bf924325546c7b42ccfc991baef63",
       "version_major": 2,
       "version_minor": 0
      },
      "text/plain": [
       "  0%|          | 0/2 [00:00<?, ?it/s]"
      ]
     },
     "metadata": {},
     "output_type": "display_data"
    }
   ],
   "source": [
    "dataset_2 = load_dataset(\"poleval2019_cyberbullying\", 'task02')"
   ]
  },
  {
   "cell_type": "code",
   "execution_count": 11,
   "id": "e5c86bb3",
   "metadata": {},
   "outputs": [
    {
     "data": {
      "text/plain": [
       "DatasetDict({\n",
       "    train: Dataset({\n",
       "        features: ['text', 'label'],\n",
       "        num_rows: 10041\n",
       "    })\n",
       "    test: Dataset({\n",
       "        features: ['text', 'label'],\n",
       "        num_rows: 1000\n",
       "    })\n",
       "})"
      ]
     },
     "execution_count": 11,
     "metadata": {},
     "output_type": "execute_result"
    }
   ],
   "source": [
    "dataset_1"
   ]
  },
  {
   "cell_type": "code",
   "execution_count": 12,
   "id": "7412d612",
   "metadata": {},
   "outputs": [
    {
     "data": {
      "text/plain": [
       "DatasetDict({\n",
       "    train: Dataset({\n",
       "        features: ['text', 'label'],\n",
       "        num_rows: 10041\n",
       "    })\n",
       "    test: Dataset({\n",
       "        features: ['text', 'label'],\n",
       "        num_rows: 1000\n",
       "    })\n",
       "})"
      ]
     },
     "execution_count": 12,
     "metadata": {},
     "output_type": "execute_result"
    }
   ],
   "source": [
    "dataset_2"
   ]
  },
  {
   "cell_type": "markdown",
   "id": "instant-terrorist",
   "metadata": {},
   "source": [
    "### Dataset 1"
   ]
  },
  {
   "cell_type": "code",
   "execution_count": 13,
   "id": "b01a5067",
   "metadata": {},
   "outputs": [
    {
     "name": "stdout",
     "output_type": "stream",
     "text": [
      "Train O:  9190\n",
      "Train 1:  851\n",
      "Ratio train:  0.08475251468977194\n"
     ]
    }
   ],
   "source": [
    "print('Train O: ', dataset_1['train']['label'].count(0))\n",
    "print('Train 1: ', dataset_1['train']['label'].count(1))\n",
    "print('Ratio train: ', dataset_1['train']['label'].count(1)/len(dataset_1['train']['label']))"
   ]
  },
  {
   "cell_type": "code",
   "execution_count": 14,
   "id": "broke-yorkshire",
   "metadata": {},
   "outputs": [
    {
     "name": "stdout",
     "output_type": "stream",
     "text": [
      "Test O:  866\n",
      "Test 1:  134\n",
      "Ratio test:  0.134\n"
     ]
    }
   ],
   "source": [
    "print('Test O: ', dataset_1['test']['label'].count(0))\n",
    "print('Test 1: ', dataset_1['test']['label'].count(1))\n",
    "print('Ratio test: ', dataset_1['test']['label'].count(1)/len(dataset_1['test']['label']))"
   ]
  },
  {
   "cell_type": "markdown",
   "id": "hired-confirmation",
   "metadata": {},
   "source": [
    "### Dataset 2"
   ]
  },
  {
   "cell_type": "code",
   "execution_count": 15,
   "id": "ancient-rogers",
   "metadata": {},
   "outputs": [
    {
     "name": "stdout",
     "output_type": "stream",
     "text": [
      "Train O:  9190\n",
      "Train 1:  253\n",
      "Train 2:  598\n"
     ]
    }
   ],
   "source": [
    "print('Train O: ', dataset_2['train']['label'].count(0))\n",
    "print('Train 1: ', dataset_2['train']['label'].count(1))\n",
    "print('Train 2: ', dataset_2['train']['label'].count(2))"
   ]
  },
  {
   "cell_type": "code",
   "execution_count": 16,
   "id": "previous-niger",
   "metadata": {},
   "outputs": [
    {
     "name": "stdout",
     "output_type": "stream",
     "text": [
      "Test O:  866\n",
      "Test 1:  25\n",
      "Test 2:  109\n"
     ]
    }
   ],
   "source": [
    "print('Test O: ', dataset_2['test']['label'].count(0))\n",
    "print('Test 1: ', dataset_2['test']['label'].count(1))\n",
    "print('Test 2: ', dataset_2['test']['label'].count(2))"
   ]
  },
  {
   "cell_type": "code",
   "execution_count": null,
   "id": "directed-institution",
   "metadata": {},
   "outputs": [],
   "source": []
  },
  {
   "cell_type": "markdown",
   "id": "statutory-integral",
   "metadata": {},
   "source": [
    "### Prepare dataset 1"
   ]
  },
  {
   "cell_type": "code",
   "execution_count": 17,
   "id": "swiss-acting",
   "metadata": {},
   "outputs": [],
   "source": [
    "X1_tr_base = dataset_1['train']['text']\n",
    "y1_tr = dataset_1['train']['label']\n",
    "\n",
    "X1_tst_base = dataset_1['test']['text']\n",
    "y1_tst = dataset_1['test']['label']"
   ]
  },
  {
   "cell_type": "code",
   "execution_count": 18,
   "id": "dated-raise",
   "metadata": {},
   "outputs": [
    {
     "data": {
      "text/plain": [
       "TfidfVectorizer()"
      ]
     },
     "execution_count": 18,
     "metadata": {},
     "output_type": "execute_result"
    }
   ],
   "source": [
    "vect1 = TfidfVectorizer()\n",
    "\n",
    "vect1.fit(X1_tr_base)"
   ]
  },
  {
   "cell_type": "code",
   "execution_count": 19,
   "id": "defensive-kingdom",
   "metadata": {},
   "outputs": [],
   "source": [
    "X1_tr = vect1.transform(X1_tr_base)\n",
    "X1_tst = vect1.transform(X1_tst_base)"
   ]
  },
  {
   "cell_type": "code",
   "execution_count": 20,
   "id": "informational-european",
   "metadata": {},
   "outputs": [],
   "source": [
    "ros = RandomOverSampler(random_state=0, sampling_strategy='minority')\n",
    "X1_tr, y1_tr = ros.fit_resample(X1_tr, y1_tr)"
   ]
  },
  {
   "cell_type": "code",
   "execution_count": null,
   "id": "seasonal-student",
   "metadata": {},
   "outputs": [],
   "source": []
  },
  {
   "cell_type": "markdown",
   "id": "assured-freeware",
   "metadata": {},
   "source": [
    "### Prepare dataset 2"
   ]
  },
  {
   "cell_type": "code",
   "execution_count": 21,
   "id": "confident-vault",
   "metadata": {},
   "outputs": [],
   "source": [
    "X2_tr_base = dataset_2['train']['text']\n",
    "y2_tr = dataset_2['train']['label']\n",
    "\n",
    "X2_tst_base = dataset_2['test']['text']\n",
    "y2_tst = dataset_2['test']['label']"
   ]
  },
  {
   "cell_type": "code",
   "execution_count": 22,
   "id": "minor-civilian",
   "metadata": {},
   "outputs": [
    {
     "data": {
      "text/plain": [
       "TfidfVectorizer()"
      ]
     },
     "execution_count": 22,
     "metadata": {},
     "output_type": "execute_result"
    }
   ],
   "source": [
    "vect2 = TfidfVectorizer()\n",
    "\n",
    "vect2.fit(X2_tr_base)"
   ]
  },
  {
   "cell_type": "code",
   "execution_count": 23,
   "id": "systematic-married",
   "metadata": {},
   "outputs": [],
   "source": [
    "X2_tr = vect2.transform(X2_tr_base)\n",
    "X2_tst = vect2.transform(X2_tst_base)"
   ]
  },
  {
   "cell_type": "code",
   "execution_count": 24,
   "id": "demonstrated-stick",
   "metadata": {},
   "outputs": [],
   "source": [
    "ros = RandomOverSampler(random_state=0, sampling_strategy='minority')\n",
    "X2_tr, y2_tr = ros.fit_resample(X2_tr, y2_tr)"
   ]
  },
  {
   "cell_type": "code",
   "execution_count": null,
   "id": "timely-original",
   "metadata": {},
   "outputs": [],
   "source": []
  },
  {
   "cell_type": "markdown",
   "id": "simplified-congo",
   "metadata": {},
   "source": [
    "# 2"
   ]
  },
  {
   "cell_type": "markdown",
   "id": "standing-apollo",
   "metadata": {},
   "source": [
    "### Bayesian classifier with TF * IDF weighting."
   ]
  },
  {
   "cell_type": "markdown",
   "id": "supreme-laugh",
   "metadata": {},
   "source": [
    "Dataset 1"
   ]
  },
  {
   "cell_type": "code",
   "execution_count": 25,
   "id": "radical-advice",
   "metadata": {},
   "outputs": [
    {
     "data": {
      "text/plain": [
       "MultinomialNB()"
      ]
     },
     "execution_count": 25,
     "metadata": {},
     "output_type": "execute_result"
    }
   ],
   "source": [
    "bayes1 = MultinomialNB()\n",
    "bayes1.fit(X1_tr, y1_tr)"
   ]
  },
  {
   "cell_type": "code",
   "execution_count": 26,
   "id": "previous-midwest",
   "metadata": {},
   "outputs": [
    {
     "data": {
      "text/plain": [
       "0.826"
      ]
     },
     "execution_count": 26,
     "metadata": {},
     "output_type": "execute_result"
    }
   ],
   "source": [
    "bayes1.score(X1_tst, y1_tst)"
   ]
  },
  {
   "cell_type": "markdown",
   "id": "breathing-america",
   "metadata": {},
   "source": [
    "Dataset 2"
   ]
  },
  {
   "cell_type": "code",
   "execution_count": 27,
   "id": "internal-tumor",
   "metadata": {},
   "outputs": [
    {
     "data": {
      "text/plain": [
       "MultinomialNB()"
      ]
     },
     "execution_count": 27,
     "metadata": {},
     "output_type": "execute_result"
    }
   ],
   "source": [
    "bayes2 = MultinomialNB()\n",
    "bayes2.fit(X2_tr, y2_tr)"
   ]
  },
  {
   "cell_type": "code",
   "execution_count": 28,
   "id": "major-laundry",
   "metadata": {},
   "outputs": [
    {
     "data": {
      "text/plain": [
       "0.801"
      ]
     },
     "execution_count": 28,
     "metadata": {},
     "output_type": "execute_result"
    }
   ],
   "source": [
    "bayes2.score(X2_tst, y2_tst)"
   ]
  },
  {
   "cell_type": "code",
   "execution_count": null,
   "id": "herbal-grill",
   "metadata": {},
   "outputs": [],
   "source": []
  },
  {
   "cell_type": "markdown",
   "id": "informal-chocolate",
   "metadata": {},
   "source": [
    "### Fasttext text classifier"
   ]
  },
  {
   "cell_type": "code",
   "execution_count": 29,
   "id": "brilliant-seeking",
   "metadata": {},
   "outputs": [],
   "source": [
    "with open('data_1_tr.txt', \"w\") as f:\n",
    "    for text, y in zip(X1_tr, y1_tr):\n",
    "        f.write(\"__label__{} {}\\n\".format(y, text))\n",
    "\n",
    "with open('data_1_tst.txt', \"w\") as f:\n",
    "    for text, y in zip(X1_tst, y1_tst):\n",
    "        f.write(\"__label__{} {}\\n\".format(y, text))\n",
    "        \n",
    "with open('data_2_tr.txt', \"w\") as f:\n",
    "    for text, y in zip(X2_tr, y2_tr):\n",
    "        f.write(\"__label__{} {}\\n\".format(y, text))\n",
    "        \n",
    "with open('data_2_tst.txt', \"w\") as f:\n",
    "    for text, y in zip(X2_tst, y2_tst):\n",
    "        f.write(\"__label__{} {}\\n\".format(y, text))"
   ]
  },
  {
   "cell_type": "code",
   "execution_count": null,
   "id": "cf6bb5f2",
   "metadata": {},
   "outputs": [],
   "source": []
  },
  {
   "cell_type": "code",
   "execution_count": 30,
   "id": "c1dda21d",
   "metadata": {},
   "outputs": [],
   "source": [
    "fasttext1 = fasttext.train_supervised('data_1_tr.txt')"
   ]
  },
  {
   "cell_type": "code",
   "execution_count": 31,
   "id": "72dd6975",
   "metadata": {},
   "outputs": [
    {
     "data": {
      "text/plain": [
       "(1000, 0.874, 0.874)"
      ]
     },
     "execution_count": 31,
     "metadata": {},
     "output_type": "execute_result"
    }
   ],
   "source": [
    "fasttext1.test('data_1_tst.txt')"
   ]
  },
  {
   "cell_type": "code",
   "execution_count": 32,
   "id": "e43271a2",
   "metadata": {},
   "outputs": [],
   "source": [
    "fasttext2 = fasttext.train_supervised('data_2_tr.txt')"
   ]
  },
  {
   "cell_type": "code",
   "execution_count": 33,
   "id": "dc023099",
   "metadata": {},
   "outputs": [
    {
     "data": {
      "text/plain": [
       "(1000, 0.864, 0.864)"
      ]
     },
     "execution_count": 33,
     "metadata": {},
     "output_type": "execute_result"
    }
   ],
   "source": [
    "fasttext2.test('data_2_tst.txt')"
   ]
  },
  {
   "cell_type": "code",
   "execution_count": null,
   "id": "banner-replication",
   "metadata": {},
   "outputs": [],
   "source": []
  },
  {
   "cell_type": "markdown",
   "id": "manufactured-consequence",
   "metadata": {},
   "source": [
    "### Transformer classifier "
   ]
  },
  {
   "cell_type": "code",
   "execution_count": 34,
   "id": "99293a9d",
   "metadata": {},
   "outputs": [
    {
     "name": "stderr",
     "output_type": "stream",
     "text": [
      "Some weights of the model checkpoint at bert-base-uncased were not used when initializing BertForSequenceClassification: ['cls.predictions.bias', 'cls.predictions.decoder.weight', 'cls.predictions.transform.LayerNorm.bias', 'cls.seq_relationship.weight', 'cls.predictions.transform.dense.weight', 'cls.predictions.transform.dense.bias', 'cls.predictions.transform.LayerNorm.weight', 'cls.seq_relationship.bias']\n",
      "- This IS expected if you are initializing BertForSequenceClassification from the checkpoint of a model trained on another task or with another architecture (e.g. initializing a BertForSequenceClassification model from a BertForPreTraining model).\n",
      "- This IS NOT expected if you are initializing BertForSequenceClassification from the checkpoint of a model that you expect to be exactly identical (initializing a BertForSequenceClassification model from a BertForSequenceClassification model).\n",
      "Some weights of BertForSequenceClassification were not initialized from the model checkpoint at bert-base-uncased and are newly initialized: ['classifier.weight', 'classifier.bias']\n",
      "You should probably TRAIN this model on a down-stream task to be able to use it for predictions and inference.\n"
     ]
    }
   ],
   "source": [
    "model = ClassificationModel('bert', 'bert-base-uncased')"
   ]
  },
  {
   "cell_type": "code",
   "execution_count": 35,
   "id": "34b1ab15",
   "metadata": {},
   "outputs": [],
   "source": [
    "tr_df1 = pd.DataFrame(list(map(list, zip(*[X1_tr_base, y1_tr]))), columns=['text', 'label'])"
   ]
  },
  {
   "cell_type": "code",
   "execution_count": 38,
   "id": "02c84917",
   "metadata": {},
   "outputs": [],
   "source": [
    "# model.train_model(tr_df1)"
   ]
  },
  {
   "cell_type": "code",
   "execution_count": 42,
   "id": "623ccf22",
   "metadata": {},
   "outputs": [],
   "source": [
    "# model.predict(tr_df1['text'][0])"
   ]
  },
  {
   "cell_type": "markdown",
   "id": "antique-transformation",
   "metadata": {},
   "source": [
    "# 3"
   ]
  },
  {
   "cell_type": "code",
   "execution_count": null,
   "id": "frozen-hampton",
   "metadata": {},
   "outputs": [],
   "source": []
  },
  {
   "cell_type": "code",
   "execution_count": null,
   "id": "clean-prevention",
   "metadata": {},
   "outputs": [],
   "source": []
  },
  {
   "cell_type": "code",
   "execution_count": null,
   "id": "higher-discussion",
   "metadata": {},
   "outputs": [],
   "source": []
  },
  {
   "cell_type": "markdown",
   "id": "endless-remains",
   "metadata": {},
   "source": [
    "# 4"
   ]
  },
  {
   "cell_type": "code",
   "execution_count": null,
   "id": "western-modification",
   "metadata": {},
   "outputs": [],
   "source": []
  },
  {
   "cell_type": "code",
   "execution_count": null,
   "id": "hundred-second",
   "metadata": {},
   "outputs": [],
   "source": []
  },
  {
   "cell_type": "code",
   "execution_count": null,
   "id": "informative-metabolism",
   "metadata": {},
   "outputs": [],
   "source": []
  },
  {
   "cell_type": "markdown",
   "id": "earlier-engagement",
   "metadata": {},
   "source": [
    "# 5"
   ]
  },
  {
   "cell_type": "code",
   "execution_count": null,
   "id": "german-batman",
   "metadata": {},
   "outputs": [],
   "source": []
  },
  {
   "cell_type": "code",
   "execution_count": null,
   "id": "sustained-serbia",
   "metadata": {},
   "outputs": [],
   "source": []
  },
  {
   "cell_type": "code",
   "execution_count": null,
   "id": "latter-bangkok",
   "metadata": {},
   "outputs": [],
   "source": []
  }
 ],
 "metadata": {
  "kernelspec": {
   "display_name": "iet_env",
   "language": "python",
   "name": "iet_env"
  },
  "language_info": {
   "codemirror_mode": {
    "name": "ipython",
    "version": 3
   },
   "file_extension": ".py",
   "mimetype": "text/x-python",
   "name": "python",
   "nbconvert_exporter": "python",
   "pygments_lexer": "ipython3",
   "version": "3.8.5"
  }
 },
 "nbformat": 4,
 "nbformat_minor": 5
}
