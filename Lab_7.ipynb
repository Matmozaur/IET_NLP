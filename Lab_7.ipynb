{
 "cells": [
  {
   "cell_type": "code",
   "execution_count": 1,
   "id": "102a9833",
   "metadata": {},
   "outputs": [],
   "source": [
    "import os\n",
    "PATH = \"/home/mdobrzanski/playground/IET/NLP/ustawy/\"\n",
    "%config Completer.use_jedi = False"
   ]
  },
  {
   "cell_type": "code",
   "execution_count": 2,
   "id": "540dd151",
   "metadata": {},
   "outputs": [],
   "source": [
    "import re\n",
    "import time\n",
    "from collections import defaultdict, Counter, OrderedDict\n",
    "from functools import reduce\n",
    "import math\n",
    "import pandas as pd\n",
    "import requests\n",
    "import collections\n",
    "import tensorflow as tf\n",
    "import torch as pytorch\n",
    "from datasets import load_dataset\n",
    "from sklearn.feature_extraction.text import TfidfVectorizer\n",
    "from sklearn.naive_bayes import MultinomialNB\n",
    "from sklearn.metrics import accuracy_score, f1_score, matthews_corrcoef, confusion_matrix, precision_score, recall_score\n",
    "from imblearn.over_sampling import RandomOverSampler\n",
    "import fasttext\n",
    "import transformers\n",
    "from transformers import DistilBertTokenizer\n",
    "from transformers import TFDistilBertForSequenceClassification\n",
    "from lime.lime_text import LimeTextExplainer"
   ]
  },
  {
   "cell_type": "code",
   "execution_count": 3,
   "id": "10403797",
   "metadata": {},
   "outputs": [],
   "source": [
    "import ktrain"
   ]
  },
  {
   "cell_type": "code",
   "execution_count": 4,
   "id": "8df9645f",
   "metadata": {},
   "outputs": [
    {
     "data": {
      "text/plain": [
       "True"
      ]
     },
     "execution_count": 4,
     "metadata": {},
     "output_type": "execute_result"
    }
   ],
   "source": [
    "pytorch.cuda.is_available()"
   ]
  },
  {
   "cell_type": "code",
   "execution_count": 5,
   "id": "67a42455",
   "metadata": {},
   "outputs": [],
   "source": [
    "# pytorch.cuda.get_device_name(0)"
   ]
  },
  {
   "cell_type": "code",
   "execution_count": 6,
   "id": "56d16312",
   "metadata": {},
   "outputs": [
    {
     "name": "stdout",
     "output_type": "stream",
     "text": [
      "Num GPUs Available:  1\n"
     ]
    }
   ],
   "source": [
    "print(\"Num GPUs Available: \", len(tf.config.list_physical_devices('GPU')))"
   ]
  },
  {
   "cell_type": "code",
   "execution_count": 7,
   "id": "8087a340",
   "metadata": {},
   "outputs": [],
   "source": [
    "# pip install torch==1.8.0"
   ]
  },
  {
   "cell_type": "code",
   "execution_count": 8,
   "id": "close-panama",
   "metadata": {},
   "outputs": [],
   "source": [
    "from ipywidgets import IntProgress"
   ]
  },
  {
   "cell_type": "markdown",
   "id": "86d164e6",
   "metadata": {},
   "source": [
    "# 1"
   ]
  },
  {
   "cell_type": "code",
   "execution_count": 9,
   "id": "953d18db",
   "metadata": {},
   "outputs": [
    {
     "name": "stderr",
     "output_type": "stream",
     "text": [
      "Using the latest cached version of the module from /home/mdobrzanski/.cache/huggingface/modules/datasets_modules/datasets/poleval2019_cyberbullying/ce6060c56dae43c469bab309a7573b86299b0bcc2484e85cfe0ae70b5f770450 (last modified on Tue Dec  7 18:31:15 2021) since it couldn't be found locally at poleval2019_cyberbullying., or remotely on the Hugging Face Hub.\n",
      "Reusing dataset poleval2019_cyber_bullying (/home/mdobrzanski/.cache/huggingface/datasets/poleval2019_cyber_bullying/task01/1.0.0/ce6060c56dae43c469bab309a7573b86299b0bcc2484e85cfe0ae70b5f770450)\n"
     ]
    },
    {
     "data": {
      "application/vnd.jupyter.widget-view+json": {
       "model_id": "8691e35ff37944c2b5dcfbdf532b5be8",
       "version_major": 2,
       "version_minor": 0
      },
      "text/plain": [
       "  0%|          | 0/2 [00:00<?, ?it/s]"
      ]
     },
     "metadata": {},
     "output_type": "display_data"
    }
   ],
   "source": [
    "dataset_1 = load_dataset(\"poleval2019_cyberbullying\", 'task01')"
   ]
  },
  {
   "cell_type": "code",
   "execution_count": 10,
   "id": "bab051ef",
   "metadata": {},
   "outputs": [
    {
     "name": "stderr",
     "output_type": "stream",
     "text": [
      "Using the latest cached version of the module from /home/mdobrzanski/.cache/huggingface/modules/datasets_modules/datasets/poleval2019_cyberbullying/ce6060c56dae43c469bab309a7573b86299b0bcc2484e85cfe0ae70b5f770450 (last modified on Tue Dec  7 18:31:15 2021) since it couldn't be found locally at poleval2019_cyberbullying., or remotely on the Hugging Face Hub.\n",
      "Reusing dataset poleval2019_cyber_bullying (/home/mdobrzanski/.cache/huggingface/datasets/poleval2019_cyber_bullying/task02/1.0.0/ce6060c56dae43c469bab309a7573b86299b0bcc2484e85cfe0ae70b5f770450)\n"
     ]
    },
    {
     "data": {
      "application/vnd.jupyter.widget-view+json": {
       "model_id": "1ad5292a1d434b0bab1b684a78fe51ce",
       "version_major": 2,
       "version_minor": 0
      },
      "text/plain": [
       "  0%|          | 0/2 [00:00<?, ?it/s]"
      ]
     },
     "metadata": {},
     "output_type": "display_data"
    }
   ],
   "source": [
    "dataset_2 = load_dataset(\"poleval2019_cyberbullying\", 'task02')"
   ]
  },
  {
   "cell_type": "code",
   "execution_count": 11,
   "id": "e5c86bb3",
   "metadata": {},
   "outputs": [
    {
     "data": {
      "text/plain": [
       "DatasetDict({\n",
       "    train: Dataset({\n",
       "        features: ['text', 'label'],\n",
       "        num_rows: 10041\n",
       "    })\n",
       "    test: Dataset({\n",
       "        features: ['text', 'label'],\n",
       "        num_rows: 1000\n",
       "    })\n",
       "})"
      ]
     },
     "execution_count": 11,
     "metadata": {},
     "output_type": "execute_result"
    }
   ],
   "source": [
    "dataset_1"
   ]
  },
  {
   "cell_type": "code",
   "execution_count": 12,
   "id": "7412d612",
   "metadata": {},
   "outputs": [
    {
     "data": {
      "text/plain": [
       "DatasetDict({\n",
       "    train: Dataset({\n",
       "        features: ['text', 'label'],\n",
       "        num_rows: 10041\n",
       "    })\n",
       "    test: Dataset({\n",
       "        features: ['text', 'label'],\n",
       "        num_rows: 1000\n",
       "    })\n",
       "})"
      ]
     },
     "execution_count": 12,
     "metadata": {},
     "output_type": "execute_result"
    }
   ],
   "source": [
    "dataset_2"
   ]
  },
  {
   "cell_type": "markdown",
   "id": "instant-terrorist",
   "metadata": {},
   "source": [
    "### Dataset 1"
   ]
  },
  {
   "cell_type": "code",
   "execution_count": 13,
   "id": "b01a5067",
   "metadata": {},
   "outputs": [
    {
     "name": "stdout",
     "output_type": "stream",
     "text": [
      "Train O:  9190\n",
      "Train 1:  851\n",
      "Ratio train:  0.08475251468977194\n"
     ]
    }
   ],
   "source": [
    "print('Train O: ', dataset_1['train']['label'].count(0))\n",
    "print('Train 1: ', dataset_1['train']['label'].count(1))\n",
    "print('Ratio train: ', dataset_1['train']['label'].count(1)/len(dataset_1['train']['label']))"
   ]
  },
  {
   "cell_type": "code",
   "execution_count": 14,
   "id": "broke-yorkshire",
   "metadata": {},
   "outputs": [
    {
     "name": "stdout",
     "output_type": "stream",
     "text": [
      "Test O:  866\n",
      "Test 1:  134\n",
      "Ratio test:  0.134\n"
     ]
    }
   ],
   "source": [
    "print('Test O: ', dataset_1['test']['label'].count(0))\n",
    "print('Test 1: ', dataset_1['test']['label'].count(1))\n",
    "print('Ratio test: ', dataset_1['test']['label'].count(1)/len(dataset_1['test']['label']))"
   ]
  },
  {
   "cell_type": "markdown",
   "id": "hired-confirmation",
   "metadata": {},
   "source": [
    "### Dataset 2"
   ]
  },
  {
   "cell_type": "code",
   "execution_count": 15,
   "id": "ancient-rogers",
   "metadata": {},
   "outputs": [
    {
     "name": "stdout",
     "output_type": "stream",
     "text": [
      "Train O:  9190\n",
      "Train 1:  253\n",
      "Train 2:  598\n"
     ]
    }
   ],
   "source": [
    "print('Train O: ', dataset_2['train']['label'].count(0))\n",
    "print('Train 1: ', dataset_2['train']['label'].count(1))\n",
    "print('Train 2: ', dataset_2['train']['label'].count(2))"
   ]
  },
  {
   "cell_type": "code",
   "execution_count": 16,
   "id": "previous-niger",
   "metadata": {},
   "outputs": [
    {
     "name": "stdout",
     "output_type": "stream",
     "text": [
      "Test O:  866\n",
      "Test 1:  25\n",
      "Test 2:  109\n"
     ]
    }
   ],
   "source": [
    "print('Test O: ', dataset_2['test']['label'].count(0))\n",
    "print('Test 1: ', dataset_2['test']['label'].count(1))\n",
    "print('Test 2: ', dataset_2['test']['label'].count(2))"
   ]
  },
  {
   "cell_type": "code",
   "execution_count": null,
   "id": "directed-institution",
   "metadata": {},
   "outputs": [],
   "source": []
  },
  {
   "cell_type": "markdown",
   "id": "statutory-integral",
   "metadata": {},
   "source": [
    "### Prepare dataset 1"
   ]
  },
  {
   "cell_type": "code",
   "execution_count": 17,
   "id": "swiss-acting",
   "metadata": {},
   "outputs": [],
   "source": [
    "X1_tr_base = dataset_1['train']['text']\n",
    "y1_tr_base = dataset_1['train']['label']\n",
    "\n",
    "X1_tst_base = dataset_1['test']['text']\n",
    "y1_tst_base = dataset_1['test']['label']"
   ]
  },
  {
   "cell_type": "code",
   "execution_count": 18,
   "id": "dated-raise",
   "metadata": {},
   "outputs": [
    {
     "data": {
      "text/plain": [
       "TfidfVectorizer()"
      ]
     },
     "execution_count": 18,
     "metadata": {},
     "output_type": "execute_result"
    }
   ],
   "source": [
    "vect1 = TfidfVectorizer()\n",
    "\n",
    "vect1.fit(X1_tr_base)"
   ]
  },
  {
   "cell_type": "code",
   "execution_count": 19,
   "id": "defensive-kingdom",
   "metadata": {},
   "outputs": [],
   "source": [
    "X1_tr = vect1.transform(X1_tr_base)\n",
    "X1_tst = vect1.transform(X1_tst_base)"
   ]
  },
  {
   "cell_type": "code",
   "execution_count": 20,
   "id": "informational-european",
   "metadata": {},
   "outputs": [],
   "source": [
    "ros = RandomOverSampler(random_state=0)\n",
    "X1_tr, y1_tr = ros.fit_resample(X1_tr, y1_tr_base)"
   ]
  },
  {
   "cell_type": "code",
   "execution_count": null,
   "id": "seasonal-student",
   "metadata": {},
   "outputs": [],
   "source": []
  },
  {
   "cell_type": "markdown",
   "id": "assured-freeware",
   "metadata": {},
   "source": [
    "### Prepare dataset 2"
   ]
  },
  {
   "cell_type": "code",
   "execution_count": 21,
   "id": "confident-vault",
   "metadata": {},
   "outputs": [],
   "source": [
    "X2_tr_base = dataset_2['train']['text']\n",
    "y2_tr_base = dataset_2['train']['label']\n",
    "\n",
    "X2_tst_base = dataset_2['test']['text']\n",
    "y2_tst_base = dataset_2['test']['label']"
   ]
  },
  {
   "cell_type": "code",
   "execution_count": 22,
   "id": "minor-civilian",
   "metadata": {},
   "outputs": [
    {
     "data": {
      "text/plain": [
       "TfidfVectorizer()"
      ]
     },
     "execution_count": 22,
     "metadata": {},
     "output_type": "execute_result"
    }
   ],
   "source": [
    "vect2 = TfidfVectorizer()\n",
    "\n",
    "vect2.fit(X2_tr_base)"
   ]
  },
  {
   "cell_type": "code",
   "execution_count": 23,
   "id": "systematic-married",
   "metadata": {},
   "outputs": [],
   "source": [
    "X2_tr = vect2.transform(X2_tr_base)\n",
    "X2_tst = vect2.transform(X2_tst_base)"
   ]
  },
  {
   "cell_type": "code",
   "execution_count": 24,
   "id": "demonstrated-stick",
   "metadata": {},
   "outputs": [],
   "source": [
    "ros = RandomOverSampler(random_state=0)\n",
    "X2_tr, y2_tr = ros.fit_resample(X2_tr, y2_tr_base)"
   ]
  },
  {
   "cell_type": "code",
   "execution_count": null,
   "id": "timely-original",
   "metadata": {},
   "outputs": [],
   "source": []
  },
  {
   "cell_type": "markdown",
   "id": "simplified-congo",
   "metadata": {},
   "source": [
    "# 2"
   ]
  },
  {
   "cell_type": "markdown",
   "id": "standing-apollo",
   "metadata": {},
   "source": [
    "### Bayesian classifier with TF * IDF weighting."
   ]
  },
  {
   "cell_type": "markdown",
   "id": "supreme-laugh",
   "metadata": {},
   "source": [
    "Dataset 1"
   ]
  },
  {
   "cell_type": "code",
   "execution_count": 25,
   "id": "radical-advice",
   "metadata": {},
   "outputs": [
    {
     "data": {
      "text/plain": [
       "MultinomialNB()"
      ]
     },
     "execution_count": 25,
     "metadata": {},
     "output_type": "execute_result"
    }
   ],
   "source": [
    "bayes1 = MultinomialNB()\n",
    "bayes1.fit(X1_tr, y1_tr)"
   ]
  },
  {
   "cell_type": "code",
   "execution_count": 26,
   "id": "previous-midwest",
   "metadata": {},
   "outputs": [
    {
     "data": {
      "text/plain": [
       "0.826"
      ]
     },
     "execution_count": 26,
     "metadata": {},
     "output_type": "execute_result"
    }
   ],
   "source": [
    "bayes1.score(X1_tst, y1_tst_base)"
   ]
  },
  {
   "cell_type": "markdown",
   "id": "breathing-america",
   "metadata": {},
   "source": [
    "Dataset 2"
   ]
  },
  {
   "cell_type": "code",
   "execution_count": 27,
   "id": "internal-tumor",
   "metadata": {},
   "outputs": [
    {
     "data": {
      "text/plain": [
       "MultinomialNB()"
      ]
     },
     "execution_count": 27,
     "metadata": {},
     "output_type": "execute_result"
    }
   ],
   "source": [
    "bayes2 = MultinomialNB()\n",
    "bayes2.fit(X2_tr, y2_tr)"
   ]
  },
  {
   "cell_type": "code",
   "execution_count": 28,
   "id": "major-laundry",
   "metadata": {},
   "outputs": [
    {
     "data": {
      "text/plain": [
       "0.784"
      ]
     },
     "execution_count": 28,
     "metadata": {},
     "output_type": "execute_result"
    }
   ],
   "source": [
    "bayes2.score(X2_tst, y2_tst_base)"
   ]
  },
  {
   "cell_type": "code",
   "execution_count": null,
   "id": "herbal-grill",
   "metadata": {},
   "outputs": [],
   "source": []
  },
  {
   "cell_type": "markdown",
   "id": "informal-chocolate",
   "metadata": {},
   "source": [
    "### Fasttext text classifier"
   ]
  },
  {
   "cell_type": "code",
   "execution_count": 29,
   "id": "brilliant-seeking",
   "metadata": {},
   "outputs": [],
   "source": [
    "with open('data_1_tr.txt', \"w\") as f:\n",
    "    for text, y in zip(X1_tr, y1_tr):\n",
    "        f.write(\"__label__{} {}\\n\".format(y, text))\n",
    "\n",
    "with open('data_1_tst.txt', \"w\") as f:\n",
    "    for text, y in zip(X1_tst, y1_tst_base):\n",
    "        f.write(\"__label__{} {}\\n\".format(y, text))\n",
    "        \n",
    "with open('data_2_tr.txt', \"w\") as f:\n",
    "    for text, y in zip(X2_tr, y2_tr):\n",
    "        f.write(\"__label__{} {}\\n\".format(y, text))\n",
    "        \n",
    "with open('data_2_tst.txt', \"w\") as f:\n",
    "    for text, y in zip(X2_tst, y2_tst_base):\n",
    "        f.write(\"__label__{} {}\\n\".format(y, text))"
   ]
  },
  {
   "cell_type": "code",
   "execution_count": null,
   "id": "cf6bb5f2",
   "metadata": {},
   "outputs": [],
   "source": []
  },
  {
   "cell_type": "code",
   "execution_count": 30,
   "id": "c1dda21d",
   "metadata": {},
   "outputs": [],
   "source": [
    "fasttext1 = fasttext.train_supervised('data_1_tr.txt')"
   ]
  },
  {
   "cell_type": "code",
   "execution_count": 31,
   "id": "72dd6975",
   "metadata": {},
   "outputs": [
    {
     "data": {
      "text/plain": [
       "(1000, 0.873, 0.873)"
      ]
     },
     "execution_count": 31,
     "metadata": {},
     "output_type": "execute_result"
    }
   ],
   "source": [
    "fasttext1.test('data_1_tst.txt')"
   ]
  },
  {
   "cell_type": "code",
   "execution_count": 32,
   "id": "e43271a2",
   "metadata": {},
   "outputs": [],
   "source": [
    "fasttext2 = fasttext.train_supervised('data_2_tr.txt')"
   ]
  },
  {
   "cell_type": "code",
   "execution_count": 33,
   "id": "dc023099",
   "metadata": {},
   "outputs": [
    {
     "data": {
      "text/plain": [
       "(1000, 0.87, 0.87)"
      ]
     },
     "execution_count": 33,
     "metadata": {},
     "output_type": "execute_result"
    }
   ],
   "source": [
    "fasttext2.test('data_2_tst.txt')"
   ]
  },
  {
   "cell_type": "code",
   "execution_count": null,
   "id": "banner-replication",
   "metadata": {},
   "outputs": [],
   "source": []
  },
  {
   "cell_type": "markdown",
   "id": "manufactured-consequence",
   "metadata": {},
   "source": [
    "### Transformer classifier "
   ]
  },
  {
   "cell_type": "code",
   "execution_count": 34,
   "id": "99293a9d",
   "metadata": {},
   "outputs": [],
   "source": [
    "# model = ClassificationModel('bert', 'bert-base-uncased')\n",
    "\n",
    "# tr_df1 = pd.DataFrame(list(map(list, zip(*[X1_tr_base, y1_tr]))), columns=['text', 'label'])\n",
    "\n",
    "# model.train_model(tr_df1)\n",
    "\n",
    "# model.predict(tr_df1['text'][0])"
   ]
  },
  {
   "cell_type": "code",
   "execution_count": 35,
   "id": "6249d0eb",
   "metadata": {},
   "outputs": [],
   "source": [
    "ros = RandomOverSampler(random_state=0, sampling_strategy=0.3)\n",
    "X1_tr_base_res, y1_tr_res = ros.fit_resample(list(map(lambda x: [x],X1_tr_base)), y1_tr_base)"
   ]
  },
  {
   "cell_type": "code",
   "execution_count": 36,
   "id": "1cea23a3",
   "metadata": {},
   "outputs": [],
   "source": [
    "X1_tr_base_res = list(map(lambda x: x[0], X1_tr_base_res))"
   ]
  },
  {
   "cell_type": "code",
   "execution_count": 37,
   "id": "5d168801",
   "metadata": {},
   "outputs": [],
   "source": [
    "transformer1 = ktrain.text.Transformer(\n",
    "        'bert-base-uncased', \n",
    "        maxlen=128,\n",
    "        class_names=list(set(y1_tr_res))\n",
    "    )"
   ]
  },
  {
   "cell_type": "code",
   "execution_count": 40,
   "id": "eb4ea618",
   "metadata": {},
   "outputs": [
    {
     "name": "stdout",
     "output_type": "stream",
     "text": [
      "preprocessing train...\n",
      "language: pl\n",
      "train sequence lengths:\n",
      "\tmean : 12\n",
      "\t95percentile : 21\n",
      "\t99percentile : 24\n"
     ]
    },
    {
     "data": {
      "text/html": [],
      "text/plain": [
       "<IPython.core.display.HTML object>"
      ]
     },
     "metadata": {},
     "output_type": "display_data"
    },
    {
     "name": "stdout",
     "output_type": "stream",
     "text": [
      "Is Multi-Label? False\n"
     ]
    }
   ],
   "source": [
    "train1 = transformer1.preprocess_train(X1_tr_base_res, y1_tr_res)"
   ]
  },
  {
   "cell_type": "code",
   "execution_count": 41,
   "id": "a9adfe2a",
   "metadata": {},
   "outputs": [],
   "source": [
    "classifier1 = transformer1.get_classifier()\n",
    "\n",
    "learner1 = ktrain.get_learner(\n",
    "        classifier1,\n",
    "        train_data=train1,\n",
    "        batch_size=8)"
   ]
  },
  {
   "cell_type": "code",
   "execution_count": 42,
   "id": "e7868915",
   "metadata": {},
   "outputs": [],
   "source": [
    "# learner1.fit_onecycle(0.0001, 5)"
   ]
  },
  {
   "cell_type": "code",
   "execution_count": 43,
   "id": "2c153b72",
   "metadata": {},
   "outputs": [],
   "source": [
    "# learner1.save_model('model1.pkl')"
   ]
  },
  {
   "cell_type": "code",
   "execution_count": 44,
   "id": "7e2c9906",
   "metadata": {},
   "outputs": [],
   "source": [
    "learner1.load_model('model1.pkl')"
   ]
  },
  {
   "cell_type": "code",
   "execution_count": 45,
   "id": "f46b4e1d",
   "metadata": {},
   "outputs": [],
   "source": [
    "# learner1.fit_onecycle(0.0001, 5)"
   ]
  },
  {
   "cell_type": "code",
   "execution_count": null,
   "id": "a6485696",
   "metadata": {},
   "outputs": [],
   "source": []
  },
  {
   "cell_type": "code",
   "execution_count": 46,
   "id": "9626859b",
   "metadata": {},
   "outputs": [],
   "source": [
    "ros = RandomOverSampler(random_state=0, sampling_strategy='minority')\n",
    "X2_tr_base_res, y2_tr_res = ros.fit_resample(list(map(lambda x: [x],X2_tr_base)), y2_tr_base)"
   ]
  },
  {
   "cell_type": "code",
   "execution_count": 47,
   "id": "de5ac092",
   "metadata": {},
   "outputs": [],
   "source": [
    "X2_tr_base_res = list(map(lambda x: x[0], X2_tr_base_res))"
   ]
  },
  {
   "cell_type": "code",
   "execution_count": 48,
   "id": "06fe2c5b",
   "metadata": {},
   "outputs": [],
   "source": [
    "transformer2 = ktrain.text.Transformer(\n",
    "        'bert-base-uncased', \n",
    "        maxlen=200,\n",
    "        class_names=list(set(y2_tr_res))\n",
    "    )"
   ]
  },
  {
   "cell_type": "code",
   "execution_count": 49,
   "id": "221e8fca",
   "metadata": {},
   "outputs": [
    {
     "name": "stdout",
     "output_type": "stream",
     "text": [
      "preprocessing train...\n",
      "language: pl\n",
      "train sequence lengths:\n",
      "\tmean : 12\n",
      "\t95percentile : 20\n",
      "\t99percentile : 23\n"
     ]
    },
    {
     "data": {
      "text/html": [],
      "text/plain": [
       "<IPython.core.display.HTML object>"
      ]
     },
     "metadata": {},
     "output_type": "display_data"
    },
    {
     "name": "stdout",
     "output_type": "stream",
     "text": [
      "Is Multi-Label? False\n"
     ]
    }
   ],
   "source": [
    "train2 = transformer2.preprocess_train(X2_tr_base_res, y2_tr_res)"
   ]
  },
  {
   "cell_type": "code",
   "execution_count": 50,
   "id": "51f0a809",
   "metadata": {},
   "outputs": [],
   "source": [
    "classifier2 = transformer2.get_classifier()\n",
    "\n",
    "learner2 = ktrain.get_learner(\n",
    "        classifier2,\n",
    "        train_data=train2,\n",
    "        batch_size=4\n",
    "    )"
   ]
  },
  {
   "cell_type": "code",
   "execution_count": 51,
   "id": "7e76bfee",
   "metadata": {},
   "outputs": [],
   "source": [
    "# learner2.fit_onecycle(0.0001, 1)"
   ]
  },
  {
   "cell_type": "code",
   "execution_count": 52,
   "id": "43a9778a",
   "metadata": {},
   "outputs": [],
   "source": [
    "# learner2.save_model('model2.pkl')"
   ]
  },
  {
   "cell_type": "code",
   "execution_count": 53,
   "id": "3dbee5c1",
   "metadata": {},
   "outputs": [],
   "source": [
    "learner2.load_model('model2.pkl')"
   ]
  },
  {
   "cell_type": "code",
   "execution_count": null,
   "id": "a26fd9e4",
   "metadata": {},
   "outputs": [],
   "source": []
  },
  {
   "cell_type": "code",
   "execution_count": null,
   "id": "d8337412",
   "metadata": {},
   "outputs": [],
   "source": []
  },
  {
   "cell_type": "code",
   "execution_count": null,
   "id": "4bc58901",
   "metadata": {},
   "outputs": [],
   "source": []
  },
  {
   "cell_type": "markdown",
   "id": "antique-transformation",
   "metadata": {},
   "source": [
    "# 3"
   ]
  },
  {
   "cell_type": "markdown",
   "id": "d2b6ea49",
   "metadata": {},
   "source": [
    "#### Task 1"
   ]
  },
  {
   "cell_type": "code",
   "execution_count": 54,
   "id": "49a39d04",
   "metadata": {},
   "outputs": [],
   "source": [
    "results_bayes1 = bayes1.predict(X1_tst)"
   ]
  },
  {
   "cell_type": "code",
   "execution_count": 55,
   "id": "9dfcac54",
   "metadata": {},
   "outputs": [],
   "source": [
    "results_fasttext1 = fasttext1.predict(X1_tst_base)[0]\n",
    "\n",
    "results_fasttext1 = list(map(lambda x: int(x[0].replace('__label__', '')), results_fasttext1))"
   ]
  },
  {
   "cell_type": "code",
   "execution_count": 56,
   "id": "3707a00e",
   "metadata": {},
   "outputs": [
    {
     "name": "stdout",
     "output_type": "stream",
     "text": [
      "preprocessing train...\n",
      "language: pl\n",
      "train sequence lengths:\n",
      "\tmean : 12\n",
      "\t95percentile : 21\n",
      "\t99percentile : 23\n"
     ]
    },
    {
     "data": {
      "text/html": [],
      "text/plain": [
       "<IPython.core.display.HTML object>"
      ]
     },
     "metadata": {},
     "output_type": "display_data"
    },
    {
     "name": "stdout",
     "output_type": "stream",
     "text": [
      "Is Multi-Label? False\n"
     ]
    }
   ],
   "source": [
    "test1 = transformer1.preprocess_train(X1_tst_base, y1_tst_base)"
   ]
  },
  {
   "cell_type": "code",
   "execution_count": 57,
   "id": "309a1eed",
   "metadata": {},
   "outputs": [],
   "source": [
    "results_transformer1 = learner1.predict(test1)"
   ]
  },
  {
   "cell_type": "code",
   "execution_count": 58,
   "id": "e3e16f0b",
   "metadata": {},
   "outputs": [],
   "source": [
    "results_transformer1 = (results_transformer1[:,1]>0.5).astype(int)"
   ]
  },
  {
   "cell_type": "code",
   "execution_count": null,
   "id": "9b12dd5a",
   "metadata": {},
   "outputs": [],
   "source": []
  },
  {
   "cell_type": "code",
   "execution_count": 59,
   "id": "b0803d1b",
   "metadata": {},
   "outputs": [
    {
     "data": {
      "text/plain": [
       "0.826"
      ]
     },
     "execution_count": 59,
     "metadata": {},
     "output_type": "execute_result"
    }
   ],
   "source": [
    "accuracy_score(results_bayes1, y1_tst_base)"
   ]
  },
  {
   "cell_type": "code",
   "execution_count": 60,
   "id": "05e889b8",
   "metadata": {},
   "outputs": [
    {
     "data": {
      "text/plain": [
       "0.866"
      ]
     },
     "execution_count": 60,
     "metadata": {},
     "output_type": "execute_result"
    }
   ],
   "source": [
    "accuracy_score(results_fasttext1, y1_tst_base)"
   ]
  },
  {
   "cell_type": "code",
   "execution_count": 61,
   "id": "5453d3d6",
   "metadata": {},
   "outputs": [
    {
     "data": {
      "text/plain": [
       "0.862"
      ]
     },
     "execution_count": 61,
     "metadata": {},
     "output_type": "execute_result"
    }
   ],
   "source": [
    "accuracy_score(results_transformer1, y1_tst_base)"
   ]
  },
  {
   "cell_type": "code",
   "execution_count": null,
   "id": "0de29589",
   "metadata": {},
   "outputs": [],
   "source": []
  },
  {
   "cell_type": "code",
   "execution_count": 62,
   "id": "8198747c",
   "metadata": {},
   "outputs": [
    {
     "data": {
      "text/plain": [
       "0.46296296296296297"
      ]
     },
     "execution_count": 62,
     "metadata": {},
     "output_type": "execute_result"
    }
   ],
   "source": [
    "f1_score(results_bayes1, y1_tst_base)"
   ]
  },
  {
   "cell_type": "code",
   "execution_count": 63,
   "id": "c01312cb",
   "metadata": {},
   "outputs": [
    {
     "data": {
      "text/plain": [
       "0.0"
      ]
     },
     "execution_count": 63,
     "metadata": {},
     "output_type": "execute_result"
    }
   ],
   "source": [
    "f1_score(results_fasttext1, y1_tst_base)"
   ]
  },
  {
   "cell_type": "code",
   "execution_count": 64,
   "id": "74bdc236",
   "metadata": {},
   "outputs": [
    {
     "data": {
      "text/plain": [
       "0.45238095238095233"
      ]
     },
     "execution_count": 64,
     "metadata": {},
     "output_type": "execute_result"
    }
   ],
   "source": [
    "f1_score(results_transformer1, y1_tst_base)"
   ]
  },
  {
   "cell_type": "code",
   "execution_count": null,
   "id": "ef2e6191",
   "metadata": {},
   "outputs": [],
   "source": []
  },
  {
   "cell_type": "code",
   "execution_count": 65,
   "id": "53c1330d",
   "metadata": {},
   "outputs": [
    {
     "data": {
      "text/plain": [
       "array([[751,  59],\n",
       "       [115,  75]])"
      ]
     },
     "execution_count": 65,
     "metadata": {},
     "output_type": "execute_result"
    }
   ],
   "source": [
    "confusion_matrix(results_bayes1, y1_tst_base)"
   ]
  },
  {
   "cell_type": "code",
   "execution_count": 66,
   "id": "e8bd4170",
   "metadata": {},
   "outputs": [
    {
     "data": {
      "text/plain": [
       "array([[866, 134],\n",
       "       [  0,   0]])"
      ]
     },
     "execution_count": 66,
     "metadata": {},
     "output_type": "execute_result"
    }
   ],
   "source": [
    "confusion_matrix(results_fasttext1, y1_tst_base)"
   ]
  },
  {
   "cell_type": "code",
   "execution_count": 67,
   "id": "a4795c46",
   "metadata": {},
   "outputs": [
    {
     "data": {
      "text/plain": [
       "array([[805,  77],\n",
       "       [ 61,  57]])"
      ]
     },
     "execution_count": 67,
     "metadata": {},
     "output_type": "execute_result"
    }
   ],
   "source": [
    "confusion_matrix(results_transformer1, y1_tst_base)"
   ]
  },
  {
   "cell_type": "code",
   "execution_count": null,
   "id": "0a0b984e",
   "metadata": {},
   "outputs": [],
   "source": []
  },
  {
   "cell_type": "code",
   "execution_count": null,
   "id": "f50fead7",
   "metadata": {},
   "outputs": [],
   "source": []
  },
  {
   "cell_type": "code",
   "execution_count": null,
   "id": "93aa7b45",
   "metadata": {},
   "outputs": [],
   "source": []
  },
  {
   "cell_type": "code",
   "execution_count": null,
   "id": "84f5c8cd",
   "metadata": {},
   "outputs": [],
   "source": []
  },
  {
   "cell_type": "markdown",
   "id": "858c0dca",
   "metadata": {},
   "source": [
    "#### Task 2"
   ]
  },
  {
   "cell_type": "code",
   "execution_count": 68,
   "id": "00390d64",
   "metadata": {},
   "outputs": [],
   "source": [
    "results_bayes2 = bayes2.predict(X2_tst)"
   ]
  },
  {
   "cell_type": "code",
   "execution_count": 69,
   "id": "cee46ac6",
   "metadata": {},
   "outputs": [],
   "source": [
    "results_fasttext2 = fasttext2.predict(X2_tst_base)[0]\n",
    "\n",
    "results_fasttext2 = list(map(lambda x: int(x[0].replace('__label__', '')), results_fasttext2))"
   ]
  },
  {
   "cell_type": "code",
   "execution_count": 70,
   "id": "ea2d650e",
   "metadata": {},
   "outputs": [
    {
     "name": "stdout",
     "output_type": "stream",
     "text": [
      "preprocessing train...\n",
      "language: pl\n",
      "train sequence lengths:\n",
      "\tmean : 12\n",
      "\t95percentile : 21\n",
      "\t99percentile : 23\n"
     ]
    },
    {
     "data": {
      "text/html": [],
      "text/plain": [
       "<IPython.core.display.HTML object>"
      ]
     },
     "metadata": {},
     "output_type": "display_data"
    },
    {
     "name": "stdout",
     "output_type": "stream",
     "text": [
      "Is Multi-Label? False\n"
     ]
    }
   ],
   "source": [
    "test2 = transformer2.preprocess_train(X2_tst_base, y2_tst_base)"
   ]
  },
  {
   "cell_type": "code",
   "execution_count": 71,
   "id": "c04ea450",
   "metadata": {},
   "outputs": [],
   "source": [
    "results_transformer2 = learner2.predict(test2)"
   ]
  },
  {
   "cell_type": "code",
   "execution_count": 72,
   "id": "4a14fb1c",
   "metadata": {},
   "outputs": [],
   "source": [
    "results_transformer2 = (results_transformer2[:,1]>0.5).astype(int)"
   ]
  },
  {
   "cell_type": "code",
   "execution_count": null,
   "id": "940c92e5",
   "metadata": {},
   "outputs": [],
   "source": []
  },
  {
   "cell_type": "code",
   "execution_count": 73,
   "id": "05ddf2ba",
   "metadata": {},
   "outputs": [
    {
     "data": {
      "text/plain": [
       "0.784"
      ]
     },
     "execution_count": 73,
     "metadata": {},
     "output_type": "execute_result"
    }
   ],
   "source": [
    "accuracy_score(results_bayes2, y2_tst_base)"
   ]
  },
  {
   "cell_type": "code",
   "execution_count": 74,
   "id": "0e561998",
   "metadata": {},
   "outputs": [
    {
     "data": {
      "text/plain": [
       "0.866"
      ]
     },
     "execution_count": 74,
     "metadata": {},
     "output_type": "execute_result"
    }
   ],
   "source": [
    "accuracy_score(results_fasttext2, y2_tst_base)"
   ]
  },
  {
   "cell_type": "code",
   "execution_count": 75,
   "id": "1d3a0890",
   "metadata": {},
   "outputs": [
    {
     "data": {
      "text/plain": [
       "0.844"
      ]
     },
     "execution_count": 75,
     "metadata": {},
     "output_type": "execute_result"
    }
   ],
   "source": [
    "accuracy_score(results_transformer2, y2_tst_base)"
   ]
  },
  {
   "cell_type": "code",
   "execution_count": null,
   "id": "5e7ef3c4",
   "metadata": {},
   "outputs": [],
   "source": []
  },
  {
   "cell_type": "code",
   "execution_count": 76,
   "id": "283099b5",
   "metadata": {},
   "outputs": [
    {
     "data": {
      "text/plain": [
       "0.7840000000000001"
      ]
     },
     "execution_count": 76,
     "metadata": {},
     "output_type": "execute_result"
    }
   ],
   "source": [
    "f1_score(results_bayes2, y2_tst_base, average='micro')"
   ]
  },
  {
   "cell_type": "code",
   "execution_count": 77,
   "id": "dc12527e",
   "metadata": {},
   "outputs": [
    {
     "data": {
      "text/plain": [
       "0.866"
      ]
     },
     "execution_count": 77,
     "metadata": {},
     "output_type": "execute_result"
    }
   ],
   "source": [
    "f1_score(results_fasttext2, y2_tst_base, average='micro')"
   ]
  },
  {
   "cell_type": "code",
   "execution_count": 78,
   "id": "efe64648",
   "metadata": {},
   "outputs": [
    {
     "data": {
      "text/plain": [
       "0.844"
      ]
     },
     "execution_count": 78,
     "metadata": {},
     "output_type": "execute_result"
    }
   ],
   "source": [
    "f1_score(results_transformer2, y2_tst_base, average='micro')"
   ]
  },
  {
   "cell_type": "code",
   "execution_count": null,
   "id": "6ef8429a",
   "metadata": {},
   "outputs": [],
   "source": []
  },
  {
   "cell_type": "code",
   "execution_count": 79,
   "id": "9746cf00",
   "metadata": {},
   "outputs": [
    {
     "data": {
      "text/plain": [
       "0.48422604436085454"
      ]
     },
     "execution_count": 79,
     "metadata": {},
     "output_type": "execute_result"
    }
   ],
   "source": [
    "f1_score(results_bayes2, y2_tst_base, average='macro')"
   ]
  },
  {
   "cell_type": "code",
   "execution_count": 80,
   "id": "3be4f285",
   "metadata": {},
   "outputs": [
    {
     "data": {
      "text/plain": [
       "0.3093962129331904"
      ]
     },
     "execution_count": 80,
     "metadata": {},
     "output_type": "execute_result"
    }
   ],
   "source": [
    "f1_score(results_fasttext2, y2_tst_base, average='macro')"
   ]
  },
  {
   "cell_type": "code",
   "execution_count": 81,
   "id": "813ea7c7",
   "metadata": {},
   "outputs": [
    {
     "data": {
      "text/plain": [
       "0.3639339975419053"
      ]
     },
     "execution_count": 81,
     "metadata": {},
     "output_type": "execute_result"
    }
   ],
   "source": [
    "f1_score(results_transformer2, y2_tst_base, average='macro')"
   ]
  },
  {
   "cell_type": "code",
   "execution_count": null,
   "id": "ff9f06a1",
   "metadata": {},
   "outputs": [],
   "source": []
  },
  {
   "cell_type": "code",
   "execution_count": 82,
   "id": "27d28a20",
   "metadata": {},
   "outputs": [
    {
     "data": {
      "text/plain": [
       "array([[727,   9,  46],\n",
       "       [ 63,  10,  16],\n",
       "       [ 76,   6,  47]])"
      ]
     },
     "execution_count": 82,
     "metadata": {},
     "output_type": "execute_result"
    }
   ],
   "source": [
    "confusion_matrix(results_bayes2, y2_tst_base)"
   ]
  },
  {
   "cell_type": "code",
   "execution_count": 83,
   "id": "c0675afa",
   "metadata": {},
   "outputs": [
    {
     "data": {
      "text/plain": [
       "array([[866,  25, 109],\n",
       "       [  0,   0,   0],\n",
       "       [  0,   0,   0]])"
      ]
     },
     "execution_count": 83,
     "metadata": {},
     "output_type": "execute_result"
    }
   ],
   "source": [
    "confusion_matrix(results_fasttext2, y2_tst_base)"
   ]
  },
  {
   "cell_type": "code",
   "execution_count": 84,
   "id": "89ba0842",
   "metadata": {},
   "outputs": [
    {
     "data": {
      "text/plain": [
       "array([[838,  19,  98],\n",
       "       [ 28,   6,  11],\n",
       "       [  0,   0,   0]])"
      ]
     },
     "execution_count": 84,
     "metadata": {},
     "output_type": "execute_result"
    }
   ],
   "source": [
    "confusion_matrix(results_transformer2, y2_tst_base)"
   ]
  },
  {
   "cell_type": "code",
   "execution_count": null,
   "id": "99ce14a5",
   "metadata": {},
   "outputs": [],
   "source": []
  },
  {
   "cell_type": "markdown",
   "id": "endless-remains",
   "metadata": {},
   "source": [
    "# 4"
   ]
  },
  {
   "cell_type": "code",
   "execution_count": null,
   "id": "western-modification",
   "metadata": {},
   "outputs": [],
   "source": []
  },
  {
   "cell_type": "code",
   "execution_count": null,
   "id": "hundred-second",
   "metadata": {},
   "outputs": [],
   "source": []
  },
  {
   "cell_type": "code",
   "execution_count": null,
   "id": "informative-metabolism",
   "metadata": {},
   "outputs": [],
   "source": []
  }
 ],
 "metadata": {
  "kernelspec": {
   "display_name": "iet_env",
   "language": "python",
   "name": "iet_env"
  },
  "language_info": {
   "codemirror_mode": {
    "name": "ipython",
    "version": 3
   },
   "file_extension": ".py",
   "mimetype": "text/x-python",
   "name": "python",
   "nbconvert_exporter": "python",
   "pygments_lexer": "ipython3",
   "version": "3.8.5"
  }
 },
 "nbformat": 4,
 "nbformat_minor": 5
}
